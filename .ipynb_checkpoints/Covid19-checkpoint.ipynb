{
 "cells": [
  {
   "cell_type": "markdown",
   "metadata": {},
   "source": [
    "Análsis superficial de Coronavirus-19\n",
    " =========="
   ]
  },
  {
   "cell_type": "markdown",
   "metadata": {},
   "source": [
    "Comienzo cargando todos los paquetes necesarios"
   ]
  },
  {
   "cell_type": "code",
   "execution_count": 1,
   "metadata": {},
   "outputs": [],
   "source": [
    "import pandas as pd\n",
    "import numpy as np\n",
    "import matplotlib.pyplot as plt\n",
    "import scipy \n",
    "from scipy import stats\n",
    "import datetime as dt\n",
    "import datetime\n",
    "from datetime import timedelta  \n",
    "import urllib.request  # importar archivos web\n",
    "from lifelines import NelsonAalenFitter # modelamiento survival\n",
    "\n",
    "# para tratar de poner espanol\n",
    "from datetime import date, datetime, time\n",
    "from babel.dates import format_date, format_datetime, format_time, format_timedelta, Locale\n",
    "import locale                                    # para tratar de poner espanol\n",
    "locale.setlocale(locale.LC_ALL,'es_ES.UTF-8')  \n",
    "\n",
    "from IPython.core.interactiveshell import InteractiveShell\n",
    "InteractiveShell.ast_node_interactivity = \"all\"\n",
    "%matplotlib inline"
   ]
  },
  {
   "cell_type": "markdown",
   "metadata": {},
   "source": [
    "# Cargo base de datos"
   ]
  },
  {
   "cell_type": "markdown",
   "metadata": {},
   "source": [
    "Saco información de la base de datos de la John Hopkins Institute, https://github.com/CSSEGISandData/COVID-19/tree/master/csse_covid_19_data"
   ]
  },
  {
   "cell_type": "markdown",
   "metadata": {},
   "source": [
    "Importo las bases de datos"
   ]
  },
  {
   "cell_type": "code",
   "execution_count": 2,
   "metadata": {
    "scrolled": true
   },
   "outputs": [
    {
     "name": "stdout",
     "output_type": "stream",
     "text": [
      "Bajando....\n",
      "Bajado!\n"
     ]
    }
   ],
   "source": [
    "confirmados = 'https://raw.githubusercontent.com/CSSEGISandData/COVID-19/master/csse_covid_19_data/csse_covid_19_time_series/time_series_19-covid-Confirmed.csv'\n",
    "\n",
    "muertos = 'https://raw.githubusercontent.com/CSSEGISandData/COVID-19/master/csse_covid_19_data/csse_covid_19_time_series/time_series_19-covid-Deaths.csv'\n",
    "\n",
    "recuperados = 'https://raw.githubusercontent.com/CSSEGISandData/COVID-19/master/csse_covid_19_data/csse_covid_19_time_series/time_series_19-covid-Recovered.csv'\n",
    "\n",
    "print (\"Bajando....\")\n",
    "filename, headers = urllib.request.urlretrieve(confirmados, filename=\"./BD/confirmados.csv\")\n",
    "filename, headers = urllib.request.urlretrieve(muertos, filename=\"./BD/muertos.csv\")\n",
    "filename, headers = urllib.request.urlretrieve(recuperados, filename=\"./BD/recuperados.csv\")\n",
    "print ('Bajado!')\n"
   ]
  },
  {
   "cell_type": "markdown",
   "metadata": {},
   "source": [
    "Cargo las bases de datos"
   ]
  },
  {
   "cell_type": "code",
   "execution_count": 3,
   "metadata": {},
   "outputs": [],
   "source": [
    "confirmados = pd.read_csv('./BD/confirmados.csv')\n",
    "muertos = pd.read_csv('./BD/muertos.csv')\n",
    "recuperados = pd.read_csv('./BD/recuperados.csv')"
   ]
  },
  {
   "cell_type": "code",
   "execution_count": 4,
   "metadata": {
    "scrolled": true
   },
   "outputs": [
    {
     "data": {
      "text/plain": [
       "Index(['Province/State', 'Country/Region', 'Lat', 'Long', '1/22/20', '1/23/20',\n",
       "       '1/24/20', '1/25/20', '1/26/20', '1/27/20', '1/28/20', '1/29/20',\n",
       "       '1/30/20', '1/31/20', '2/1/20', '2/2/20', '2/3/20', '2/4/20', '2/5/20',\n",
       "       '2/6/20', '2/7/20', '2/8/20', '2/9/20', '2/10/20', '2/11/20', '2/12/20',\n",
       "       '2/13/20', '2/14/20', '2/15/20', '2/16/20', '2/17/20', '2/18/20',\n",
       "       '2/19/20', '2/20/20', '2/21/20', '2/22/20', '2/23/20', '2/24/20',\n",
       "       '2/25/20', '2/26/20', '2/27/20', '2/28/20', '2/29/20', '3/1/20',\n",
       "       '3/2/20', '3/3/20', '3/4/20', '3/5/20', '3/6/20', '3/7/20', '3/8/20',\n",
       "       '3/9/20', '3/10/20', '3/11/20', '3/12/20', '3/13/20', '3/14/20',\n",
       "       '3/15/20', '3/16/20', '3/17/20'],\n",
       "      dtype='object')"
      ]
     },
     "execution_count": 4,
     "metadata": {},
     "output_type": "execute_result"
    },
    {
     "data": {
      "text/html": [
       "<div>\n",
       "<style scoped>\n",
       "    .dataframe tbody tr th:only-of-type {\n",
       "        vertical-align: middle;\n",
       "    }\n",
       "\n",
       "    .dataframe tbody tr th {\n",
       "        vertical-align: top;\n",
       "    }\n",
       "\n",
       "    .dataframe thead th {\n",
       "        text-align: right;\n",
       "    }\n",
       "</style>\n",
       "<table border=\"1\" class=\"dataframe\">\n",
       "  <thead>\n",
       "    <tr style=\"text-align: right;\">\n",
       "      <th></th>\n",
       "      <th>Province/State</th>\n",
       "      <th>Country/Region</th>\n",
       "      <th>Lat</th>\n",
       "      <th>Long</th>\n",
       "      <th>1/22/20</th>\n",
       "      <th>1/23/20</th>\n",
       "      <th>1/24/20</th>\n",
       "      <th>1/25/20</th>\n",
       "      <th>1/26/20</th>\n",
       "      <th>1/27/20</th>\n",
       "      <th>...</th>\n",
       "      <th>3/8/20</th>\n",
       "      <th>3/9/20</th>\n",
       "      <th>3/10/20</th>\n",
       "      <th>3/11/20</th>\n",
       "      <th>3/12/20</th>\n",
       "      <th>3/13/20</th>\n",
       "      <th>3/14/20</th>\n",
       "      <th>3/15/20</th>\n",
       "      <th>3/16/20</th>\n",
       "      <th>3/17/20</th>\n",
       "    </tr>\n",
       "  </thead>\n",
       "  <tbody>\n",
       "    <tr>\n",
       "      <th>0</th>\n",
       "      <td>NaN</td>\n",
       "      <td>Thailand</td>\n",
       "      <td>15.0000</td>\n",
       "      <td>101.0000</td>\n",
       "      <td>2</td>\n",
       "      <td>3</td>\n",
       "      <td>5</td>\n",
       "      <td>7</td>\n",
       "      <td>8</td>\n",
       "      <td>8</td>\n",
       "      <td>...</td>\n",
       "      <td>50</td>\n",
       "      <td>50</td>\n",
       "      <td>53</td>\n",
       "      <td>59</td>\n",
       "      <td>70</td>\n",
       "      <td>75</td>\n",
       "      <td>82</td>\n",
       "      <td>114</td>\n",
       "      <td>147</td>\n",
       "      <td>177</td>\n",
       "    </tr>\n",
       "    <tr>\n",
       "      <th>1</th>\n",
       "      <td>NaN</td>\n",
       "      <td>Japan</td>\n",
       "      <td>36.0000</td>\n",
       "      <td>138.0000</td>\n",
       "      <td>2</td>\n",
       "      <td>1</td>\n",
       "      <td>2</td>\n",
       "      <td>2</td>\n",
       "      <td>4</td>\n",
       "      <td>4</td>\n",
       "      <td>...</td>\n",
       "      <td>502</td>\n",
       "      <td>511</td>\n",
       "      <td>581</td>\n",
       "      <td>639</td>\n",
       "      <td>639</td>\n",
       "      <td>701</td>\n",
       "      <td>773</td>\n",
       "      <td>839</td>\n",
       "      <td>825</td>\n",
       "      <td>878</td>\n",
       "    </tr>\n",
       "    <tr>\n",
       "      <th>2</th>\n",
       "      <td>NaN</td>\n",
       "      <td>Singapore</td>\n",
       "      <td>1.2833</td>\n",
       "      <td>103.8333</td>\n",
       "      <td>0</td>\n",
       "      <td>1</td>\n",
       "      <td>3</td>\n",
       "      <td>3</td>\n",
       "      <td>4</td>\n",
       "      <td>5</td>\n",
       "      <td>...</td>\n",
       "      <td>150</td>\n",
       "      <td>150</td>\n",
       "      <td>160</td>\n",
       "      <td>178</td>\n",
       "      <td>178</td>\n",
       "      <td>200</td>\n",
       "      <td>212</td>\n",
       "      <td>226</td>\n",
       "      <td>243</td>\n",
       "      <td>266</td>\n",
       "    </tr>\n",
       "    <tr>\n",
       "      <th>3</th>\n",
       "      <td>NaN</td>\n",
       "      <td>Nepal</td>\n",
       "      <td>28.1667</td>\n",
       "      <td>84.2500</td>\n",
       "      <td>0</td>\n",
       "      <td>0</td>\n",
       "      <td>0</td>\n",
       "      <td>1</td>\n",
       "      <td>1</td>\n",
       "      <td>1</td>\n",
       "      <td>...</td>\n",
       "      <td>1</td>\n",
       "      <td>1</td>\n",
       "      <td>1</td>\n",
       "      <td>1</td>\n",
       "      <td>1</td>\n",
       "      <td>1</td>\n",
       "      <td>1</td>\n",
       "      <td>1</td>\n",
       "      <td>1</td>\n",
       "      <td>1</td>\n",
       "    </tr>\n",
       "    <tr>\n",
       "      <th>4</th>\n",
       "      <td>NaN</td>\n",
       "      <td>Malaysia</td>\n",
       "      <td>2.5000</td>\n",
       "      <td>112.5000</td>\n",
       "      <td>0</td>\n",
       "      <td>0</td>\n",
       "      <td>0</td>\n",
       "      <td>3</td>\n",
       "      <td>4</td>\n",
       "      <td>4</td>\n",
       "      <td>...</td>\n",
       "      <td>99</td>\n",
       "      <td>117</td>\n",
       "      <td>129</td>\n",
       "      <td>149</td>\n",
       "      <td>149</td>\n",
       "      <td>197</td>\n",
       "      <td>238</td>\n",
       "      <td>428</td>\n",
       "      <td>566</td>\n",
       "      <td>673</td>\n",
       "    </tr>\n",
       "  </tbody>\n",
       "</table>\n",
       "<p>5 rows × 60 columns</p>\n",
       "</div>"
      ],
      "text/plain": [
       "  Province/State Country/Region      Lat      Long  1/22/20  1/23/20  1/24/20  \\\n",
       "0            NaN       Thailand  15.0000  101.0000        2        3        5   \n",
       "1            NaN          Japan  36.0000  138.0000        2        1        2   \n",
       "2            NaN      Singapore   1.2833  103.8333        0        1        3   \n",
       "3            NaN          Nepal  28.1667   84.2500        0        0        0   \n",
       "4            NaN       Malaysia   2.5000  112.5000        0        0        0   \n",
       "\n",
       "   1/25/20  1/26/20  1/27/20  ...  3/8/20  3/9/20  3/10/20  3/11/20  3/12/20  \\\n",
       "0        7        8        8  ...      50      50       53       59       70   \n",
       "1        2        4        4  ...     502     511      581      639      639   \n",
       "2        3        4        5  ...     150     150      160      178      178   \n",
       "3        1        1        1  ...       1       1        1        1        1   \n",
       "4        3        4        4  ...      99     117      129      149      149   \n",
       "\n",
       "   3/13/20  3/14/20  3/15/20  3/16/20  3/17/20  \n",
       "0       75       82      114      147      177  \n",
       "1      701      773      839      825      878  \n",
       "2      200      212      226      243      266  \n",
       "3        1        1        1        1        1  \n",
       "4      197      238      428      566      673  \n",
       "\n",
       "[5 rows x 60 columns]"
      ]
     },
     "execution_count": 4,
     "metadata": {},
     "output_type": "execute_result"
    }
   ],
   "source": [
    "# como se ve.....\n",
    "# Fechas\n",
    "confirmados.columns\n",
    "confirmados.head()"
   ]
  },
  {
   "cell_type": "markdown",
   "metadata": {},
   "source": [
    "corrijo parte de la base de datos"
   ]
  },
  {
   "cell_type": "code",
   "execution_count": 5,
   "metadata": {},
   "outputs": [],
   "source": [
    "# Arreglo las cabeceras dado que son fechas\n",
    "fechas = pd.to_datetime(confirmados.columns[4:])\n",
    "lugares = confirmados.columns[:4]\n",
    "confirmados.columns = list(lugares) + list(fechas)\n",
    "\n",
    "fechas = pd.to_datetime(muertos.columns[4:])\n",
    "lugares = muertos.columns[:4]\n",
    "muertos.columns = list(lugares) + list(fechas)\n",
    "\n",
    "fechas = pd.to_datetime(recuperados.columns[4:])\n",
    "lugares = recuperados.columns[:4]\n",
    "recuperados.columns = list(lugares) + list(fechas)"
   ]
  },
  {
   "cell_type": "code",
   "execution_count": 6,
   "metadata": {},
   "outputs": [
    {
     "data": {
      "text/html": [
       "<div>\n",
       "<style scoped>\n",
       "    .dataframe tbody tr th:only-of-type {\n",
       "        vertical-align: middle;\n",
       "    }\n",
       "\n",
       "    .dataframe tbody tr th {\n",
       "        vertical-align: top;\n",
       "    }\n",
       "\n",
       "    .dataframe thead th {\n",
       "        text-align: right;\n",
       "    }\n",
       "</style>\n",
       "<table border=\"1\" class=\"dataframe\">\n",
       "  <thead>\n",
       "    <tr style=\"text-align: right;\">\n",
       "      <th></th>\n",
       "      <th>Province/State</th>\n",
       "      <th>Country/Region</th>\n",
       "      <th>Lat</th>\n",
       "      <th>Long</th>\n",
       "      <th>2020-01-22 00:00:00</th>\n",
       "      <th>2020-01-23 00:00:00</th>\n",
       "      <th>2020-01-24 00:00:00</th>\n",
       "      <th>2020-01-25 00:00:00</th>\n",
       "      <th>2020-01-26 00:00:00</th>\n",
       "      <th>2020-01-27 00:00:00</th>\n",
       "      <th>...</th>\n",
       "      <th>2020-03-08 00:00:00</th>\n",
       "      <th>2020-03-09 00:00:00</th>\n",
       "      <th>2020-03-10 00:00:00</th>\n",
       "      <th>2020-03-11 00:00:00</th>\n",
       "      <th>2020-03-12 00:00:00</th>\n",
       "      <th>2020-03-13 00:00:00</th>\n",
       "      <th>2020-03-14 00:00:00</th>\n",
       "      <th>2020-03-15 00:00:00</th>\n",
       "      <th>2020-03-16 00:00:00</th>\n",
       "      <th>2020-03-17 00:00:00</th>\n",
       "    </tr>\n",
       "  </thead>\n",
       "  <tbody>\n",
       "    <tr>\n",
       "      <th>0</th>\n",
       "      <td>NaN</td>\n",
       "      <td>Thailand</td>\n",
       "      <td>15.0000</td>\n",
       "      <td>101.0000</td>\n",
       "      <td>0</td>\n",
       "      <td>0</td>\n",
       "      <td>0</td>\n",
       "      <td>0</td>\n",
       "      <td>2</td>\n",
       "      <td>2</td>\n",
       "      <td>...</td>\n",
       "      <td>31</td>\n",
       "      <td>31</td>\n",
       "      <td>33</td>\n",
       "      <td>34</td>\n",
       "      <td>34</td>\n",
       "      <td>35</td>\n",
       "      <td>35</td>\n",
       "      <td>35</td>\n",
       "      <td>35</td>\n",
       "      <td>41</td>\n",
       "    </tr>\n",
       "    <tr>\n",
       "      <th>1</th>\n",
       "      <td>NaN</td>\n",
       "      <td>Japan</td>\n",
       "      <td>36.0000</td>\n",
       "      <td>138.0000</td>\n",
       "      <td>0</td>\n",
       "      <td>0</td>\n",
       "      <td>0</td>\n",
       "      <td>0</td>\n",
       "      <td>1</td>\n",
       "      <td>1</td>\n",
       "      <td>...</td>\n",
       "      <td>76</td>\n",
       "      <td>76</td>\n",
       "      <td>101</td>\n",
       "      <td>118</td>\n",
       "      <td>118</td>\n",
       "      <td>118</td>\n",
       "      <td>118</td>\n",
       "      <td>118</td>\n",
       "      <td>144</td>\n",
       "      <td>144</td>\n",
       "    </tr>\n",
       "    <tr>\n",
       "      <th>2</th>\n",
       "      <td>NaN</td>\n",
       "      <td>Singapore</td>\n",
       "      <td>1.2833</td>\n",
       "      <td>103.8333</td>\n",
       "      <td>0</td>\n",
       "      <td>0</td>\n",
       "      <td>0</td>\n",
       "      <td>0</td>\n",
       "      <td>0</td>\n",
       "      <td>0</td>\n",
       "      <td>...</td>\n",
       "      <td>78</td>\n",
       "      <td>78</td>\n",
       "      <td>78</td>\n",
       "      <td>96</td>\n",
       "      <td>96</td>\n",
       "      <td>97</td>\n",
       "      <td>105</td>\n",
       "      <td>105</td>\n",
       "      <td>109</td>\n",
       "      <td>114</td>\n",
       "    </tr>\n",
       "    <tr>\n",
       "      <th>3</th>\n",
       "      <td>NaN</td>\n",
       "      <td>Nepal</td>\n",
       "      <td>28.1667</td>\n",
       "      <td>84.2500</td>\n",
       "      <td>0</td>\n",
       "      <td>0</td>\n",
       "      <td>0</td>\n",
       "      <td>0</td>\n",
       "      <td>0</td>\n",
       "      <td>0</td>\n",
       "      <td>...</td>\n",
       "      <td>1</td>\n",
       "      <td>1</td>\n",
       "      <td>1</td>\n",
       "      <td>1</td>\n",
       "      <td>1</td>\n",
       "      <td>1</td>\n",
       "      <td>1</td>\n",
       "      <td>1</td>\n",
       "      <td>1</td>\n",
       "      <td>1</td>\n",
       "    </tr>\n",
       "    <tr>\n",
       "      <th>4</th>\n",
       "      <td>NaN</td>\n",
       "      <td>Malaysia</td>\n",
       "      <td>2.5000</td>\n",
       "      <td>112.5000</td>\n",
       "      <td>0</td>\n",
       "      <td>0</td>\n",
       "      <td>0</td>\n",
       "      <td>0</td>\n",
       "      <td>0</td>\n",
       "      <td>0</td>\n",
       "      <td>...</td>\n",
       "      <td>24</td>\n",
       "      <td>24</td>\n",
       "      <td>24</td>\n",
       "      <td>26</td>\n",
       "      <td>26</td>\n",
       "      <td>26</td>\n",
       "      <td>35</td>\n",
       "      <td>42</td>\n",
       "      <td>42</td>\n",
       "      <td>49</td>\n",
       "    </tr>\n",
       "  </tbody>\n",
       "</table>\n",
       "<p>5 rows × 60 columns</p>\n",
       "</div>"
      ],
      "text/plain": [
       "  Province/State Country/Region      Lat      Long  2020-01-22 00:00:00  \\\n",
       "0            NaN       Thailand  15.0000  101.0000                    0   \n",
       "1            NaN          Japan  36.0000  138.0000                    0   \n",
       "2            NaN      Singapore   1.2833  103.8333                    0   \n",
       "3            NaN          Nepal  28.1667   84.2500                    0   \n",
       "4            NaN       Malaysia   2.5000  112.5000                    0   \n",
       "\n",
       "   2020-01-23 00:00:00  2020-01-24 00:00:00  2020-01-25 00:00:00  \\\n",
       "0                    0                    0                    0   \n",
       "1                    0                    0                    0   \n",
       "2                    0                    0                    0   \n",
       "3                    0                    0                    0   \n",
       "4                    0                    0                    0   \n",
       "\n",
       "   2020-01-26 00:00:00  2020-01-27 00:00:00  ...  2020-03-08 00:00:00  \\\n",
       "0                    2                    2  ...                   31   \n",
       "1                    1                    1  ...                   76   \n",
       "2                    0                    0  ...                   78   \n",
       "3                    0                    0  ...                    1   \n",
       "4                    0                    0  ...                   24   \n",
       "\n",
       "   2020-03-09 00:00:00  2020-03-10 00:00:00  2020-03-11 00:00:00  \\\n",
       "0                   31                   33                   34   \n",
       "1                   76                  101                  118   \n",
       "2                   78                   78                   96   \n",
       "3                    1                    1                    1   \n",
       "4                   24                   24                   26   \n",
       "\n",
       "   2020-03-12 00:00:00  2020-03-13 00:00:00  2020-03-14 00:00:00  \\\n",
       "0                   34                   35                   35   \n",
       "1                  118                  118                  118   \n",
       "2                   96                   97                  105   \n",
       "3                    1                    1                    1   \n",
       "4                   26                   26                   35   \n",
       "\n",
       "   2020-03-15 00:00:00  2020-03-16 00:00:00  2020-03-17 00:00:00  \n",
       "0                   35                   35                   41  \n",
       "1                  118                  144                  144  \n",
       "2                  105                  109                  114  \n",
       "3                    1                    1                    1  \n",
       "4                   42                   42                   49  \n",
       "\n",
       "[5 rows x 60 columns]"
      ]
     },
     "execution_count": 6,
     "metadata": {},
     "output_type": "execute_result"
    },
    {
     "data": {
      "text/html": [
       "<div>\n",
       "<style scoped>\n",
       "    .dataframe tbody tr th:only-of-type {\n",
       "        vertical-align: middle;\n",
       "    }\n",
       "\n",
       "    .dataframe tbody tr th {\n",
       "        vertical-align: top;\n",
       "    }\n",
       "\n",
       "    .dataframe thead th {\n",
       "        text-align: right;\n",
       "    }\n",
       "</style>\n",
       "<table border=\"1\" class=\"dataframe\">\n",
       "  <thead>\n",
       "    <tr style=\"text-align: right;\">\n",
       "      <th></th>\n",
       "      <th>Province/State</th>\n",
       "      <th>Country/Region</th>\n",
       "      <th>Lat</th>\n",
       "      <th>Long</th>\n",
       "      <th>2020-01-22 00:00:00</th>\n",
       "      <th>2020-01-23 00:00:00</th>\n",
       "      <th>2020-01-24 00:00:00</th>\n",
       "      <th>2020-01-25 00:00:00</th>\n",
       "      <th>2020-01-26 00:00:00</th>\n",
       "      <th>2020-01-27 00:00:00</th>\n",
       "      <th>...</th>\n",
       "      <th>2020-03-08 00:00:00</th>\n",
       "      <th>2020-03-09 00:00:00</th>\n",
       "      <th>2020-03-10 00:00:00</th>\n",
       "      <th>2020-03-11 00:00:00</th>\n",
       "      <th>2020-03-12 00:00:00</th>\n",
       "      <th>2020-03-13 00:00:00</th>\n",
       "      <th>2020-03-14 00:00:00</th>\n",
       "      <th>2020-03-15 00:00:00</th>\n",
       "      <th>2020-03-16 00:00:00</th>\n",
       "      <th>2020-03-17 00:00:00</th>\n",
       "    </tr>\n",
       "  </thead>\n",
       "  <tbody>\n",
       "    <tr>\n",
       "      <th>0</th>\n",
       "      <td>NaN</td>\n",
       "      <td>Thailand</td>\n",
       "      <td>15.0000</td>\n",
       "      <td>101.0000</td>\n",
       "      <td>2</td>\n",
       "      <td>3</td>\n",
       "      <td>5</td>\n",
       "      <td>7</td>\n",
       "      <td>8</td>\n",
       "      <td>8</td>\n",
       "      <td>...</td>\n",
       "      <td>50</td>\n",
       "      <td>50</td>\n",
       "      <td>53</td>\n",
       "      <td>59</td>\n",
       "      <td>70</td>\n",
       "      <td>75</td>\n",
       "      <td>82</td>\n",
       "      <td>114</td>\n",
       "      <td>147</td>\n",
       "      <td>177</td>\n",
       "    </tr>\n",
       "    <tr>\n",
       "      <th>1</th>\n",
       "      <td>NaN</td>\n",
       "      <td>Japan</td>\n",
       "      <td>36.0000</td>\n",
       "      <td>138.0000</td>\n",
       "      <td>2</td>\n",
       "      <td>1</td>\n",
       "      <td>2</td>\n",
       "      <td>2</td>\n",
       "      <td>4</td>\n",
       "      <td>4</td>\n",
       "      <td>...</td>\n",
       "      <td>502</td>\n",
       "      <td>511</td>\n",
       "      <td>581</td>\n",
       "      <td>639</td>\n",
       "      <td>639</td>\n",
       "      <td>701</td>\n",
       "      <td>773</td>\n",
       "      <td>839</td>\n",
       "      <td>825</td>\n",
       "      <td>878</td>\n",
       "    </tr>\n",
       "    <tr>\n",
       "      <th>2</th>\n",
       "      <td>NaN</td>\n",
       "      <td>Singapore</td>\n",
       "      <td>1.2833</td>\n",
       "      <td>103.8333</td>\n",
       "      <td>0</td>\n",
       "      <td>1</td>\n",
       "      <td>3</td>\n",
       "      <td>3</td>\n",
       "      <td>4</td>\n",
       "      <td>5</td>\n",
       "      <td>...</td>\n",
       "      <td>150</td>\n",
       "      <td>150</td>\n",
       "      <td>160</td>\n",
       "      <td>178</td>\n",
       "      <td>178</td>\n",
       "      <td>200</td>\n",
       "      <td>212</td>\n",
       "      <td>226</td>\n",
       "      <td>243</td>\n",
       "      <td>266</td>\n",
       "    </tr>\n",
       "    <tr>\n",
       "      <th>3</th>\n",
       "      <td>NaN</td>\n",
       "      <td>Nepal</td>\n",
       "      <td>28.1667</td>\n",
       "      <td>84.2500</td>\n",
       "      <td>0</td>\n",
       "      <td>0</td>\n",
       "      <td>0</td>\n",
       "      <td>1</td>\n",
       "      <td>1</td>\n",
       "      <td>1</td>\n",
       "      <td>...</td>\n",
       "      <td>1</td>\n",
       "      <td>1</td>\n",
       "      <td>1</td>\n",
       "      <td>1</td>\n",
       "      <td>1</td>\n",
       "      <td>1</td>\n",
       "      <td>1</td>\n",
       "      <td>1</td>\n",
       "      <td>1</td>\n",
       "      <td>1</td>\n",
       "    </tr>\n",
       "    <tr>\n",
       "      <th>4</th>\n",
       "      <td>NaN</td>\n",
       "      <td>Malaysia</td>\n",
       "      <td>2.5000</td>\n",
       "      <td>112.5000</td>\n",
       "      <td>0</td>\n",
       "      <td>0</td>\n",
       "      <td>0</td>\n",
       "      <td>3</td>\n",
       "      <td>4</td>\n",
       "      <td>4</td>\n",
       "      <td>...</td>\n",
       "      <td>99</td>\n",
       "      <td>117</td>\n",
       "      <td>129</td>\n",
       "      <td>149</td>\n",
       "      <td>149</td>\n",
       "      <td>197</td>\n",
       "      <td>238</td>\n",
       "      <td>428</td>\n",
       "      <td>566</td>\n",
       "      <td>673</td>\n",
       "    </tr>\n",
       "  </tbody>\n",
       "</table>\n",
       "<p>5 rows × 60 columns</p>\n",
       "</div>"
      ],
      "text/plain": [
       "  Province/State Country/Region      Lat      Long  2020-01-22 00:00:00  \\\n",
       "0            NaN       Thailand  15.0000  101.0000                    2   \n",
       "1            NaN          Japan  36.0000  138.0000                    2   \n",
       "2            NaN      Singapore   1.2833  103.8333                    0   \n",
       "3            NaN          Nepal  28.1667   84.2500                    0   \n",
       "4            NaN       Malaysia   2.5000  112.5000                    0   \n",
       "\n",
       "   2020-01-23 00:00:00  2020-01-24 00:00:00  2020-01-25 00:00:00  \\\n",
       "0                    3                    5                    7   \n",
       "1                    1                    2                    2   \n",
       "2                    1                    3                    3   \n",
       "3                    0                    0                    1   \n",
       "4                    0                    0                    3   \n",
       "\n",
       "   2020-01-26 00:00:00  2020-01-27 00:00:00  ...  2020-03-08 00:00:00  \\\n",
       "0                    8                    8  ...                   50   \n",
       "1                    4                    4  ...                  502   \n",
       "2                    4                    5  ...                  150   \n",
       "3                    1                    1  ...                    1   \n",
       "4                    4                    4  ...                   99   \n",
       "\n",
       "   2020-03-09 00:00:00  2020-03-10 00:00:00  2020-03-11 00:00:00  \\\n",
       "0                   50                   53                   59   \n",
       "1                  511                  581                  639   \n",
       "2                  150                  160                  178   \n",
       "3                    1                    1                    1   \n",
       "4                  117                  129                  149   \n",
       "\n",
       "   2020-03-12 00:00:00  2020-03-13 00:00:00  2020-03-14 00:00:00  \\\n",
       "0                   70                   75                   82   \n",
       "1                  639                  701                  773   \n",
       "2                  178                  200                  212   \n",
       "3                    1                    1                    1   \n",
       "4                  149                  197                  238   \n",
       "\n",
       "   2020-03-15 00:00:00  2020-03-16 00:00:00  2020-03-17 00:00:00  \n",
       "0                  114                  147                  177  \n",
       "1                  839                  825                  878  \n",
       "2                  226                  243                  266  \n",
       "3                    1                    1                    1  \n",
       "4                  428                  566                  673  \n",
       "\n",
       "[5 rows x 60 columns]"
      ]
     },
     "execution_count": 6,
     "metadata": {},
     "output_type": "execute_result"
    },
    {
     "data": {
      "text/html": [
       "<div>\n",
       "<style scoped>\n",
       "    .dataframe tbody tr th:only-of-type {\n",
       "        vertical-align: middle;\n",
       "    }\n",
       "\n",
       "    .dataframe tbody tr th {\n",
       "        vertical-align: top;\n",
       "    }\n",
       "\n",
       "    .dataframe thead th {\n",
       "        text-align: right;\n",
       "    }\n",
       "</style>\n",
       "<table border=\"1\" class=\"dataframe\">\n",
       "  <thead>\n",
       "    <tr style=\"text-align: right;\">\n",
       "      <th></th>\n",
       "      <th>Province/State</th>\n",
       "      <th>Country/Region</th>\n",
       "      <th>Lat</th>\n",
       "      <th>Long</th>\n",
       "      <th>2020-01-22 00:00:00</th>\n",
       "      <th>2020-01-23 00:00:00</th>\n",
       "      <th>2020-01-24 00:00:00</th>\n",
       "      <th>2020-01-25 00:00:00</th>\n",
       "      <th>2020-01-26 00:00:00</th>\n",
       "      <th>2020-01-27 00:00:00</th>\n",
       "      <th>...</th>\n",
       "      <th>2020-03-08 00:00:00</th>\n",
       "      <th>2020-03-09 00:00:00</th>\n",
       "      <th>2020-03-10 00:00:00</th>\n",
       "      <th>2020-03-11 00:00:00</th>\n",
       "      <th>2020-03-12 00:00:00</th>\n",
       "      <th>2020-03-13 00:00:00</th>\n",
       "      <th>2020-03-14 00:00:00</th>\n",
       "      <th>2020-03-15 00:00:00</th>\n",
       "      <th>2020-03-16 00:00:00</th>\n",
       "      <th>2020-03-17 00:00:00</th>\n",
       "    </tr>\n",
       "  </thead>\n",
       "  <tbody>\n",
       "    <tr>\n",
       "      <th>0</th>\n",
       "      <td>NaN</td>\n",
       "      <td>Thailand</td>\n",
       "      <td>15.0000</td>\n",
       "      <td>101.0000</td>\n",
       "      <td>0</td>\n",
       "      <td>0</td>\n",
       "      <td>0</td>\n",
       "      <td>0</td>\n",
       "      <td>0</td>\n",
       "      <td>0</td>\n",
       "      <td>...</td>\n",
       "      <td>1</td>\n",
       "      <td>1</td>\n",
       "      <td>1</td>\n",
       "      <td>1</td>\n",
       "      <td>1</td>\n",
       "      <td>1</td>\n",
       "      <td>1</td>\n",
       "      <td>1</td>\n",
       "      <td>1</td>\n",
       "      <td>1</td>\n",
       "    </tr>\n",
       "    <tr>\n",
       "      <th>1</th>\n",
       "      <td>NaN</td>\n",
       "      <td>Japan</td>\n",
       "      <td>36.0000</td>\n",
       "      <td>138.0000</td>\n",
       "      <td>0</td>\n",
       "      <td>0</td>\n",
       "      <td>0</td>\n",
       "      <td>0</td>\n",
       "      <td>0</td>\n",
       "      <td>0</td>\n",
       "      <td>...</td>\n",
       "      <td>6</td>\n",
       "      <td>10</td>\n",
       "      <td>10</td>\n",
       "      <td>15</td>\n",
       "      <td>16</td>\n",
       "      <td>19</td>\n",
       "      <td>22</td>\n",
       "      <td>22</td>\n",
       "      <td>27</td>\n",
       "      <td>29</td>\n",
       "    </tr>\n",
       "    <tr>\n",
       "      <th>2</th>\n",
       "      <td>NaN</td>\n",
       "      <td>Singapore</td>\n",
       "      <td>1.2833</td>\n",
       "      <td>103.8333</td>\n",
       "      <td>0</td>\n",
       "      <td>0</td>\n",
       "      <td>0</td>\n",
       "      <td>0</td>\n",
       "      <td>0</td>\n",
       "      <td>0</td>\n",
       "      <td>...</td>\n",
       "      <td>0</td>\n",
       "      <td>0</td>\n",
       "      <td>0</td>\n",
       "      <td>0</td>\n",
       "      <td>0</td>\n",
       "      <td>0</td>\n",
       "      <td>0</td>\n",
       "      <td>0</td>\n",
       "      <td>0</td>\n",
       "      <td>0</td>\n",
       "    </tr>\n",
       "    <tr>\n",
       "      <th>3</th>\n",
       "      <td>NaN</td>\n",
       "      <td>Nepal</td>\n",
       "      <td>28.1667</td>\n",
       "      <td>84.2500</td>\n",
       "      <td>0</td>\n",
       "      <td>0</td>\n",
       "      <td>0</td>\n",
       "      <td>0</td>\n",
       "      <td>0</td>\n",
       "      <td>0</td>\n",
       "      <td>...</td>\n",
       "      <td>0</td>\n",
       "      <td>0</td>\n",
       "      <td>0</td>\n",
       "      <td>0</td>\n",
       "      <td>0</td>\n",
       "      <td>0</td>\n",
       "      <td>0</td>\n",
       "      <td>0</td>\n",
       "      <td>0</td>\n",
       "      <td>0</td>\n",
       "    </tr>\n",
       "    <tr>\n",
       "      <th>4</th>\n",
       "      <td>NaN</td>\n",
       "      <td>Malaysia</td>\n",
       "      <td>2.5000</td>\n",
       "      <td>112.5000</td>\n",
       "      <td>0</td>\n",
       "      <td>0</td>\n",
       "      <td>0</td>\n",
       "      <td>0</td>\n",
       "      <td>0</td>\n",
       "      <td>0</td>\n",
       "      <td>...</td>\n",
       "      <td>0</td>\n",
       "      <td>0</td>\n",
       "      <td>0</td>\n",
       "      <td>0</td>\n",
       "      <td>0</td>\n",
       "      <td>0</td>\n",
       "      <td>0</td>\n",
       "      <td>0</td>\n",
       "      <td>0</td>\n",
       "      <td>2</td>\n",
       "    </tr>\n",
       "  </tbody>\n",
       "</table>\n",
       "<p>5 rows × 60 columns</p>\n",
       "</div>"
      ],
      "text/plain": [
       "  Province/State Country/Region      Lat      Long  2020-01-22 00:00:00  \\\n",
       "0            NaN       Thailand  15.0000  101.0000                    0   \n",
       "1            NaN          Japan  36.0000  138.0000                    0   \n",
       "2            NaN      Singapore   1.2833  103.8333                    0   \n",
       "3            NaN          Nepal  28.1667   84.2500                    0   \n",
       "4            NaN       Malaysia   2.5000  112.5000                    0   \n",
       "\n",
       "   2020-01-23 00:00:00  2020-01-24 00:00:00  2020-01-25 00:00:00  \\\n",
       "0                    0                    0                    0   \n",
       "1                    0                    0                    0   \n",
       "2                    0                    0                    0   \n",
       "3                    0                    0                    0   \n",
       "4                    0                    0                    0   \n",
       "\n",
       "   2020-01-26 00:00:00  2020-01-27 00:00:00  ...  2020-03-08 00:00:00  \\\n",
       "0                    0                    0  ...                    1   \n",
       "1                    0                    0  ...                    6   \n",
       "2                    0                    0  ...                    0   \n",
       "3                    0                    0  ...                    0   \n",
       "4                    0                    0  ...                    0   \n",
       "\n",
       "   2020-03-09 00:00:00  2020-03-10 00:00:00  2020-03-11 00:00:00  \\\n",
       "0                    1                    1                    1   \n",
       "1                   10                   10                   15   \n",
       "2                    0                    0                    0   \n",
       "3                    0                    0                    0   \n",
       "4                    0                    0                    0   \n",
       "\n",
       "   2020-03-12 00:00:00  2020-03-13 00:00:00  2020-03-14 00:00:00  \\\n",
       "0                    1                    1                    1   \n",
       "1                   16                   19                   22   \n",
       "2                    0                    0                    0   \n",
       "3                    0                    0                    0   \n",
       "4                    0                    0                    0   \n",
       "\n",
       "   2020-03-15 00:00:00  2020-03-16 00:00:00  2020-03-17 00:00:00  \n",
       "0                    1                    1                    1  \n",
       "1                   22                   27                   29  \n",
       "2                    0                    0                    0  \n",
       "3                    0                    0                    0  \n",
       "4                    0                    0                    2  \n",
       "\n",
       "[5 rows x 60 columns]"
      ]
     },
     "execution_count": 6,
     "metadata": {},
     "output_type": "execute_result"
    }
   ],
   "source": [
    "recuperados.head()\n",
    "confirmados.head()\n",
    "muertos.head()"
   ]
  },
  {
   "cell_type": "markdown",
   "metadata": {},
   "source": [
    "# Base de datos del MINSAL\n",
    "El minsal publica una base datos en pdf..... por supuesto, el standard para sábanas de datos......\n",
    "\n",
    "un colega transforma este pdf en un .csv\n",
    "https://github.com/ivanMSC/COVID19_Chile"
   ]
  },
  {
   "cell_type": "code",
   "execution_count": 7,
   "metadata": {
    "scrolled": true
   },
   "outputs": [
    {
     "name": "stdout",
     "output_type": "stream",
     "text": [
      "Bajando....\n",
      "Bajado!\n"
     ]
    }
   ],
   "source": [
    "# Bajo la BD del Minsal y la guardo en un archivo\n",
    "BD_minsal = 'https://raw.githubusercontent.com/ivanMSC/COVID19_Chile/master/covid19_chile.csv'\n",
    "\n",
    "print (\"Bajando....\")\n",
    "filename, headers = urllib.request.urlretrieve(BD_minsal, filename=\"./BD/BD_minsal.csv\")\n",
    "print ('Bajado!')"
   ]
  },
  {
   "cell_type": "code",
   "execution_count": 8,
   "metadata": {},
   "outputs": [
    {
     "data": {
      "text/html": [
       "<div>\n",
       "<style scoped>\n",
       "    .dataframe tbody tr th:only-of-type {\n",
       "        vertical-align: middle;\n",
       "    }\n",
       "\n",
       "    .dataframe tbody tr th {\n",
       "        vertical-align: top;\n",
       "    }\n",
       "\n",
       "    .dataframe thead th {\n",
       "        text-align: right;\n",
       "    }\n",
       "</style>\n",
       "<table border=\"1\" class=\"dataframe\">\n",
       "  <thead>\n",
       "    <tr style=\"text-align: right;\">\n",
       "      <th></th>\n",
       "      <th>ID</th>\n",
       "      <th>Fecha</th>\n",
       "      <th>Region_Numero</th>\n",
       "      <th>Region</th>\n",
       "      <th>Sexo</th>\n",
       "      <th>Edad</th>\n",
       "      <th>Centro_de_Salud</th>\n",
       "      <th>Comuna</th>\n",
       "      <th>lat</th>\n",
       "      <th>lon</th>\n",
       "      <th>Tipo_de_caso</th>\n",
       "      <th>lat_comuna</th>\n",
       "      <th>lon_comuna</th>\n",
       "    </tr>\n",
       "  </thead>\n",
       "  <tbody>\n",
       "    <tr>\n",
       "      <th>0</th>\n",
       "      <td>1</td>\n",
       "      <td>2020-03-03</td>\n",
       "      <td>9</td>\n",
       "      <td>Maule</td>\n",
       "      <td>Masculino</td>\n",
       "      <td>33.0</td>\n",
       "      <td>Hospital de Talca</td>\n",
       "      <td>Talca</td>\n",
       "      <td>-35.427058</td>\n",
       "      <td>-71.646186</td>\n",
       "      <td>Confirmado</td>\n",
       "      <td>-35.423</td>\n",
       "      <td>-71.657</td>\n",
       "    </tr>\n",
       "    <tr>\n",
       "      <th>1</th>\n",
       "      <td>2</td>\n",
       "      <td>2020-03-03</td>\n",
       "      <td>9</td>\n",
       "      <td>Maule</td>\n",
       "      <td>Femenino</td>\n",
       "      <td>33.0</td>\n",
       "      <td>Hospital de Talca</td>\n",
       "      <td>Talca</td>\n",
       "      <td>-35.427058</td>\n",
       "      <td>-71.646186</td>\n",
       "      <td>Confirmado</td>\n",
       "      <td>-35.423</td>\n",
       "      <td>-71.657</td>\n",
       "    </tr>\n",
       "    <tr>\n",
       "      <th>2</th>\n",
       "      <td>3</td>\n",
       "      <td>2020-03-04</td>\n",
       "      <td>7</td>\n",
       "      <td>Metropolitana</td>\n",
       "      <td>Femenino</td>\n",
       "      <td>56.0</td>\n",
       "      <td>Clínica Alemana</td>\n",
       "      <td>Vitacura</td>\n",
       "      <td>-33.392440</td>\n",
       "      <td>-70.573017</td>\n",
       "      <td>Confirmado</td>\n",
       "      <td>-33.378</td>\n",
       "      <td>-70.562</td>\n",
       "    </tr>\n",
       "    <tr>\n",
       "      <th>3</th>\n",
       "      <td>4</td>\n",
       "      <td>2020-03-05</td>\n",
       "      <td>7</td>\n",
       "      <td>Metropolitana</td>\n",
       "      <td>Femenino</td>\n",
       "      <td>40.0</td>\n",
       "      <td>Clínica Santa María</td>\n",
       "      <td>Providencia</td>\n",
       "      <td>-33.432318</td>\n",
       "      <td>-70.627967</td>\n",
       "      <td>Confirmado</td>\n",
       "      <td>-33.435</td>\n",
       "      <td>-70.616</td>\n",
       "    </tr>\n",
       "    <tr>\n",
       "      <th>4</th>\n",
       "      <td>5</td>\n",
       "      <td>2020-03-06</td>\n",
       "      <td>7</td>\n",
       "      <td>Metropolitana</td>\n",
       "      <td>Masculino</td>\n",
       "      <td>58.0</td>\n",
       "      <td>Clínica Alemana</td>\n",
       "      <td>Vitacura</td>\n",
       "      <td>-33.392440</td>\n",
       "      <td>-70.573017</td>\n",
       "      <td>Confirmado</td>\n",
       "      <td>-33.378</td>\n",
       "      <td>-70.562</td>\n",
       "    </tr>\n",
       "  </tbody>\n",
       "</table>\n",
       "</div>"
      ],
      "text/plain": [
       "   ID      Fecha  Region_Numero         Region       Sexo  Edad  \\\n",
       "0   1 2020-03-03              9          Maule  Masculino  33.0   \n",
       "1   2 2020-03-03              9          Maule   Femenino  33.0   \n",
       "2   3 2020-03-04              7  Metropolitana   Femenino  56.0   \n",
       "3   4 2020-03-05              7  Metropolitana   Femenino  40.0   \n",
       "4   5 2020-03-06              7  Metropolitana  Masculino  58.0   \n",
       "\n",
       "       Centro_de_Salud       Comuna        lat        lon Tipo_de_caso  \\\n",
       "0    Hospital de Talca        Talca -35.427058 -71.646186   Confirmado   \n",
       "1    Hospital de Talca        Talca -35.427058 -71.646186   Confirmado   \n",
       "2      Clínica Alemana     Vitacura -33.392440 -70.573017   Confirmado   \n",
       "3  Clínica Santa María  Providencia -33.432318 -70.627967   Confirmado   \n",
       "4      Clínica Alemana     Vitacura -33.392440 -70.573017   Confirmado   \n",
       "\n",
       "   lat_comuna  lon_comuna  \n",
       "0     -35.423     -71.657  \n",
       "1     -35.423     -71.657  \n",
       "2     -33.378     -70.562  \n",
       "3     -33.435     -70.616  \n",
       "4     -33.378     -70.562  "
      ]
     },
     "execution_count": 8,
     "metadata": {},
     "output_type": "execute_result"
    }
   ],
   "source": [
    "# Ahora lo importo a este notebook\n",
    "minsal = pd.read_csv('./BD/BD_minsal.csv')\n",
    "# minsal.head()\n",
    "minsal.Fecha = pd.to_datetime(minsal.Fecha, format='%d-%m-%Y')\n",
    "minsal.head()"
   ]
  },
  {
   "cell_type": "markdown",
   "metadata": {},
   "source": [
    "realizo un conteo por region y por país para poder modelar según contagiados por region. luego lo agrego a la base de datos del minsal"
   ]
  },
  {
   "cell_type": "code",
   "execution_count": 9,
   "metadata": {
    "scrolled": false
   },
   "outputs": [],
   "source": [
    "ts1_comuna = minsal.groupby('Comuna').Fecha.first()\n",
    "ts1_region = minsal.groupby('Region').Fecha.first()\n",
    "ts1_chile   = minsal.Fecha.sort_values()[0]\n",
    "\n",
    "# conteo por region\n",
    "for reg in minsal.Region.unique():\n",
    "#     print(reg)\n",
    "    conteo_region = minsal.loc[minsal.Region==reg].Fecha - ts1_region[reg]\n",
    "    conteo_pais   = minsal.loc[minsal.Region==reg].Fecha - ts1_chile\n",
    "    minsal.loc[minsal.index.isin(conteo_region.index), 'Conteo Region'] = conteo_region\n",
    "    minsal.loc[minsal.index.isin(conteo_pais.index), 'Conteo Pais'] = conteo_pais\n",
    "\n",
    "#conteo por comuna\n",
    "for comun in minsal.Comuna.unique():\n",
    "#     print(comun)\n",
    "    conteo_comuna = minsal.loc[minsal.Comuna==comun].Fecha - ts1_comuna[comun]\n",
    "    minsal.loc[minsal.index.isin(conteo_comuna.index), 'Conteo Comuna'] = conteo_comuna\n"
   ]
  },
  {
   "cell_type": "code",
   "execution_count": 10,
   "metadata": {},
   "outputs": [
    {
     "data": {
      "text/html": [
       "<div>\n",
       "<style scoped>\n",
       "    .dataframe tbody tr th:only-of-type {\n",
       "        vertical-align: middle;\n",
       "    }\n",
       "\n",
       "    .dataframe tbody tr th {\n",
       "        vertical-align: top;\n",
       "    }\n",
       "\n",
       "    .dataframe thead th {\n",
       "        text-align: right;\n",
       "    }\n",
       "</style>\n",
       "<table border=\"1\" class=\"dataframe\">\n",
       "  <thead>\n",
       "    <tr style=\"text-align: right;\">\n",
       "      <th></th>\n",
       "      <th>ID</th>\n",
       "      <th>Fecha</th>\n",
       "      <th>Region_Numero</th>\n",
       "      <th>Region</th>\n",
       "      <th>Sexo</th>\n",
       "      <th>Edad</th>\n",
       "      <th>Centro_de_Salud</th>\n",
       "      <th>Comuna</th>\n",
       "      <th>lat</th>\n",
       "      <th>lon</th>\n",
       "      <th>Tipo_de_caso</th>\n",
       "      <th>lat_comuna</th>\n",
       "      <th>lon_comuna</th>\n",
       "      <th>Conteo Region</th>\n",
       "      <th>Conteo Pais</th>\n",
       "      <th>Conteo Comuna</th>\n",
       "    </tr>\n",
       "  </thead>\n",
       "  <tbody>\n",
       "    <tr>\n",
       "      <th>0</th>\n",
       "      <td>1</td>\n",
       "      <td>2020-03-03</td>\n",
       "      <td>9</td>\n",
       "      <td>Maule</td>\n",
       "      <td>Masculino</td>\n",
       "      <td>33.0</td>\n",
       "      <td>Hospital de Talca</td>\n",
       "      <td>Talca</td>\n",
       "      <td>-35.427058</td>\n",
       "      <td>-71.646186</td>\n",
       "      <td>Confirmado</td>\n",
       "      <td>-35.423</td>\n",
       "      <td>-71.657</td>\n",
       "      <td>0 days</td>\n",
       "      <td>0 days</td>\n",
       "      <td>0 days</td>\n",
       "    </tr>\n",
       "    <tr>\n",
       "      <th>1</th>\n",
       "      <td>2</td>\n",
       "      <td>2020-03-03</td>\n",
       "      <td>9</td>\n",
       "      <td>Maule</td>\n",
       "      <td>Femenino</td>\n",
       "      <td>33.0</td>\n",
       "      <td>Hospital de Talca</td>\n",
       "      <td>Talca</td>\n",
       "      <td>-35.427058</td>\n",
       "      <td>-71.646186</td>\n",
       "      <td>Confirmado</td>\n",
       "      <td>-35.423</td>\n",
       "      <td>-71.657</td>\n",
       "      <td>0 days</td>\n",
       "      <td>0 days</td>\n",
       "      <td>0 days</td>\n",
       "    </tr>\n",
       "    <tr>\n",
       "      <th>2</th>\n",
       "      <td>3</td>\n",
       "      <td>2020-03-04</td>\n",
       "      <td>7</td>\n",
       "      <td>Metropolitana</td>\n",
       "      <td>Femenino</td>\n",
       "      <td>56.0</td>\n",
       "      <td>Clínica Alemana</td>\n",
       "      <td>Vitacura</td>\n",
       "      <td>-33.392440</td>\n",
       "      <td>-70.573017</td>\n",
       "      <td>Confirmado</td>\n",
       "      <td>-33.378</td>\n",
       "      <td>-70.562</td>\n",
       "      <td>0 days</td>\n",
       "      <td>1 days</td>\n",
       "      <td>0 days</td>\n",
       "    </tr>\n",
       "    <tr>\n",
       "      <th>3</th>\n",
       "      <td>4</td>\n",
       "      <td>2020-03-05</td>\n",
       "      <td>7</td>\n",
       "      <td>Metropolitana</td>\n",
       "      <td>Femenino</td>\n",
       "      <td>40.0</td>\n",
       "      <td>Clínica Santa María</td>\n",
       "      <td>Providencia</td>\n",
       "      <td>-33.432318</td>\n",
       "      <td>-70.627967</td>\n",
       "      <td>Confirmado</td>\n",
       "      <td>-33.435</td>\n",
       "      <td>-70.616</td>\n",
       "      <td>1 days</td>\n",
       "      <td>2 days</td>\n",
       "      <td>0 days</td>\n",
       "    </tr>\n",
       "    <tr>\n",
       "      <th>4</th>\n",
       "      <td>5</td>\n",
       "      <td>2020-03-06</td>\n",
       "      <td>7</td>\n",
       "      <td>Metropolitana</td>\n",
       "      <td>Masculino</td>\n",
       "      <td>58.0</td>\n",
       "      <td>Clínica Alemana</td>\n",
       "      <td>Vitacura</td>\n",
       "      <td>-33.392440</td>\n",
       "      <td>-70.573017</td>\n",
       "      <td>Confirmado</td>\n",
       "      <td>-33.378</td>\n",
       "      <td>-70.562</td>\n",
       "      <td>2 days</td>\n",
       "      <td>3 days</td>\n",
       "      <td>2 days</td>\n",
       "    </tr>\n",
       "    <tr>\n",
       "      <th>...</th>\n",
       "      <td>...</td>\n",
       "      <td>...</td>\n",
       "      <td>...</td>\n",
       "      <td>...</td>\n",
       "      <td>...</td>\n",
       "      <td>...</td>\n",
       "      <td>...</td>\n",
       "      <td>...</td>\n",
       "      <td>...</td>\n",
       "      <td>...</td>\n",
       "      <td>...</td>\n",
       "      <td>...</td>\n",
       "      <td>...</td>\n",
       "      <td>...</td>\n",
       "      <td>...</td>\n",
       "      <td>...</td>\n",
       "    </tr>\n",
       "    <tr>\n",
       "      <th>196</th>\n",
       "      <td>197</td>\n",
       "      <td>2020-03-17</td>\n",
       "      <td>10</td>\n",
       "      <td>Ñuble</td>\n",
       "      <td>Masculino</td>\n",
       "      <td>32.0</td>\n",
       "      <td>Hospital de Chillán</td>\n",
       "      <td>Chillán</td>\n",
       "      <td>-36.608818</td>\n",
       "      <td>-72.092149</td>\n",
       "      <td>Confirmado</td>\n",
       "      <td>-36.601</td>\n",
       "      <td>-72.109</td>\n",
       "      <td>5 days</td>\n",
       "      <td>14 days</td>\n",
       "      <td>5 days</td>\n",
       "    </tr>\n",
       "    <tr>\n",
       "      <th>197</th>\n",
       "      <td>198</td>\n",
       "      <td>2020-03-17</td>\n",
       "      <td>10</td>\n",
       "      <td>Ñuble</td>\n",
       "      <td>Masculino</td>\n",
       "      <td>48.0</td>\n",
       "      <td>Hospital de Chillán</td>\n",
       "      <td>Chillán</td>\n",
       "      <td>-36.608818</td>\n",
       "      <td>-72.092149</td>\n",
       "      <td>Confirmado</td>\n",
       "      <td>-36.601</td>\n",
       "      <td>-72.109</td>\n",
       "      <td>5 days</td>\n",
       "      <td>14 days</td>\n",
       "      <td>5 days</td>\n",
       "    </tr>\n",
       "    <tr>\n",
       "      <th>198</th>\n",
       "      <td>199</td>\n",
       "      <td>2020-03-17</td>\n",
       "      <td>10</td>\n",
       "      <td>Ñuble</td>\n",
       "      <td>Femenino</td>\n",
       "      <td>31.0</td>\n",
       "      <td>Clínica de Chillán</td>\n",
       "      <td>Chillán</td>\n",
       "      <td>-36.615095</td>\n",
       "      <td>-72.107595</td>\n",
       "      <td>Confirmado</td>\n",
       "      <td>-36.601</td>\n",
       "      <td>-72.109</td>\n",
       "      <td>5 days</td>\n",
       "      <td>14 days</td>\n",
       "      <td>5 days</td>\n",
       "    </tr>\n",
       "    <tr>\n",
       "      <th>199</th>\n",
       "      <td>200</td>\n",
       "      <td>2020-03-17</td>\n",
       "      <td>16</td>\n",
       "      <td>Magallanes</td>\n",
       "      <td>Masculino</td>\n",
       "      <td>70.0</td>\n",
       "      <td>Clínica Magallanes</td>\n",
       "      <td>Punta Arenas</td>\n",
       "      <td>-53.137263</td>\n",
       "      <td>-70.886627</td>\n",
       "      <td>Confirmado</td>\n",
       "      <td>-53.148</td>\n",
       "      <td>-70.907</td>\n",
       "      <td>0 days</td>\n",
       "      <td>14 days</td>\n",
       "      <td>0 days</td>\n",
       "    </tr>\n",
       "    <tr>\n",
       "      <th>200</th>\n",
       "      <td>201</td>\n",
       "      <td>2020-03-17</td>\n",
       "      <td>16</td>\n",
       "      <td>Magallanes</td>\n",
       "      <td>Masculino</td>\n",
       "      <td>23.0</td>\n",
       "      <td>Hospital de Punta Arenas</td>\n",
       "      <td>Punta Arenas</td>\n",
       "      <td>-53.122420</td>\n",
       "      <td>-70.896656</td>\n",
       "      <td>Confirmado</td>\n",
       "      <td>-53.148</td>\n",
       "      <td>-70.907</td>\n",
       "      <td>0 days</td>\n",
       "      <td>14 days</td>\n",
       "      <td>0 days</td>\n",
       "    </tr>\n",
       "  </tbody>\n",
       "</table>\n",
       "<p>201 rows × 16 columns</p>\n",
       "</div>"
      ],
      "text/plain": [
       "      ID      Fecha  Region_Numero         Region       Sexo  Edad  \\\n",
       "0      1 2020-03-03              9          Maule  Masculino  33.0   \n",
       "1      2 2020-03-03              9          Maule   Femenino  33.0   \n",
       "2      3 2020-03-04              7  Metropolitana   Femenino  56.0   \n",
       "3      4 2020-03-05              7  Metropolitana   Femenino  40.0   \n",
       "4      5 2020-03-06              7  Metropolitana  Masculino  58.0   \n",
       "..   ...        ...            ...            ...        ...   ...   \n",
       "196  197 2020-03-17             10          Ñuble  Masculino  32.0   \n",
       "197  198 2020-03-17             10          Ñuble  Masculino  48.0   \n",
       "198  199 2020-03-17             10          Ñuble   Femenino  31.0   \n",
       "199  200 2020-03-17             16     Magallanes  Masculino  70.0   \n",
       "200  201 2020-03-17             16     Magallanes  Masculino  23.0   \n",
       "\n",
       "              Centro_de_Salud        Comuna        lat        lon  \\\n",
       "0           Hospital de Talca         Talca -35.427058 -71.646186   \n",
       "1           Hospital de Talca         Talca -35.427058 -71.646186   \n",
       "2             Clínica Alemana      Vitacura -33.392440 -70.573017   \n",
       "3         Clínica Santa María   Providencia -33.432318 -70.627967   \n",
       "4             Clínica Alemana      Vitacura -33.392440 -70.573017   \n",
       "..                        ...           ...        ...        ...   \n",
       "196       Hospital de Chillán       Chillán -36.608818 -72.092149   \n",
       "197       Hospital de Chillán       Chillán -36.608818 -72.092149   \n",
       "198        Clínica de Chillán       Chillán -36.615095 -72.107595   \n",
       "199        Clínica Magallanes  Punta Arenas -53.137263 -70.886627   \n",
       "200  Hospital de Punta Arenas  Punta Arenas -53.122420 -70.896656   \n",
       "\n",
       "    Tipo_de_caso  lat_comuna  lon_comuna Conteo Region Conteo Pais  \\\n",
       "0     Confirmado     -35.423     -71.657        0 days      0 days   \n",
       "1     Confirmado     -35.423     -71.657        0 days      0 days   \n",
       "2     Confirmado     -33.378     -70.562        0 days      1 days   \n",
       "3     Confirmado     -33.435     -70.616        1 days      2 days   \n",
       "4     Confirmado     -33.378     -70.562        2 days      3 days   \n",
       "..           ...         ...         ...           ...         ...   \n",
       "196   Confirmado     -36.601     -72.109        5 days     14 days   \n",
       "197   Confirmado     -36.601     -72.109        5 days     14 days   \n",
       "198   Confirmado     -36.601     -72.109        5 days     14 days   \n",
       "199   Confirmado     -53.148     -70.907        0 days     14 days   \n",
       "200   Confirmado     -53.148     -70.907        0 days     14 days   \n",
       "\n",
       "    Conteo Comuna  \n",
       "0          0 days  \n",
       "1          0 days  \n",
       "2          0 days  \n",
       "3          0 days  \n",
       "4          2 days  \n",
       "..            ...  \n",
       "196        5 days  \n",
       "197        5 days  \n",
       "198        5 days  \n",
       "199        0 days  \n",
       "200        0 days  \n",
       "\n",
       "[201 rows x 16 columns]"
      ]
     },
     "execution_count": 10,
     "metadata": {},
     "output_type": "execute_result"
    }
   ],
   "source": [
    "minsal"
   ]
  },
  {
   "cell_type": "markdown",
   "metadata": {},
   "source": [
    "## Variables constante"
   ]
  },
  {
   "cell_type": "code",
   "execution_count": 11,
   "metadata": {},
   "outputs": [
    {
     "data": {
      "text/plain": [
       "['Argentina',\n",
       " 'Chile',\n",
       " 'Peru',\n",
       " 'Venezuela',\n",
       " 'Brazil',\n",
       " 'Mexico',\n",
       " 'Ecuador',\n",
       " 'Colombia',\n",
       " 'Bolivia',\n",
       " 'Cuba',\n",
       " 'Uruguay',\n",
       " 'Guatemala']"
      ]
     },
     "execution_count": 11,
     "metadata": {},
     "output_type": "execute_result"
    }
   ],
   "source": [
    "fechas = pd.to_datetime(confirmados.columns[4:])\n",
    "paises_LA = list(['Argentina', 'Chile', 'Peru', 'Venezuela',\n",
    "                  'Brazil', 'Mexico', 'Ecuador', 'Colombia',\n",
    "                  'Bolivia', 'Cuba', 'Uruguay', 'Guatemala',\n",
    "                  ])\n",
    "paises_LA\n",
    "# confirmados['Country/Region'].unique()\n"
   ]
  },
  {
   "cell_type": "markdown",
   "metadata": {},
   "source": [
    "# Cantidad de Casos en países de interes"
   ]
  },
  {
   "cell_type": "markdown",
   "metadata": {},
   "source": [
    "## Chile"
   ]
  },
  {
   "cell_type": "code",
   "execution_count": 12,
   "metadata": {},
   "outputs": [],
   "source": [
    "paises = list(['Chile'\n",
    "                  ])\n"
   ]
  },
  {
   "cell_type": "code",
   "execution_count": 13,
   "metadata": {
    "scrolled": false
   },
   "outputs": [
    {
     "data": {
      "text/plain": [
       "<matplotlib.axes._subplots.AxesSubplot at 0x1b2770fb2c8>"
      ]
     },
     "execution_count": 13,
     "metadata": {},
     "output_type": "execute_result"
    },
    {
     "data": {
      "text/plain": [
       "<matplotlib.legend.Legend at 0x1b2770a8748>"
      ]
     },
     "execution_count": 13,
     "metadata": {},
     "output_type": "execute_result"
    },
    {
     "data": {
      "text/plain": [
       "Text(0.5, 1.0, 'Casos confirmados Coronavirus-19')"
      ]
     },
     "execution_count": 13,
     "metadata": {},
     "output_type": "execute_result"
    },
    {
     "data": {
      "text/plain": [
       "Text(0.5, 0, 'Fecha')"
      ]
     },
     "execution_count": 13,
     "metadata": {},
     "output_type": "execute_result"
    },
    {
     "data": {
      "text/plain": [
       "Text(0, 0.5, 'Cantidad de casos')"
      ]
     },
     "execution_count": 13,
     "metadata": {},
     "output_type": "execute_result"
    },
    {
     "data": {
      "text/plain": [
       "Text(2020-02-27 00:00:00, 1, 'Dr Egidio Céspedes \\nSAMU Viña del Mar')"
      ]
     },
     "execution_count": 13,
     "metadata": {},
     "output_type": "execute_result"
    },
    {
     "data": {
      "text/plain": [
       "(737482.0, 737502.0951836242)"
      ]
     },
     "execution_count": 13,
     "metadata": {},
     "output_type": "execute_result"
    },
    {
     "data": {
      "text/plain": [
       "Text(0, 0.5, 'Cantidad de casos en log')"
      ]
     },
     "execution_count": 13,
     "metadata": {},
     "output_type": "execute_result"
    },
    {
     "data": {
      "image/png": "[encoded data removed]",
      "text/plain": [
       "<Figure size 432x504 with 1 Axes>"
      ]
     },
     "metadata": {
      "needs_background": "light"
     },
     "output_type": "display_data"
    }
   ],
   "source": [
    "PAIS_Interes = confirmados.loc[\n",
    "    confirmados['Country/Region'].isin(paises)].set_index('Country/Region')[fechas].T.copy()\n",
    "\n",
    "dumm = PAIS_Interes\n",
    "\n",
    "# fecha de interés\n",
    "f_fin = dt.datetime.now()\n",
    "f_inicio = dt.datetime(2020,2,27)\n",
    "\n",
    "\n",
    "# Formato\n",
    "dumm.plot(figsize=(6,7))\n",
    "plt.legend(loc='upper left')\n",
    "plt.title('Casos confirmados Coronavirus-19')\n",
    "plt.xlabel('Fecha')\n",
    "plt.ylabel('Cantidad de casos')\n",
    "plt.text(f_inicio, 1, 'Dr Egidio Céspedes \\nSAMU Viña del Mar',\n",
    "         fontsize=10,color='gray', alpha=0.5)\n",
    "\n",
    "plt.xlim(f_inicio, f_fin)\n",
    "\n",
    "\n",
    "# escala logaritmica\n",
    "plt.yscale('log')\n",
    "plt.ylabel('Cantidad de casos en log')"
   ]
  },
  {
   "cell_type": "markdown",
   "metadata": {},
   "source": [
    "## Vecinos"
   ]
  },
  {
   "cell_type": "code",
   "execution_count": 14,
   "metadata": {},
   "outputs": [],
   "source": [
    "paises = list(['Argentina', 'Chile', 'Peru', 'Venezuela',\n",
    "                  'Ecuador', 'Colombia', 'Brazil', 'Paraguay'\n",
    "                  'Bolivia', 'Uruguay', 'Bolivia', 'Colombia'\n",
    "                  ])"
   ]
  },
  {
   "cell_type": "code",
   "execution_count": 15,
   "metadata": {
    "scrolled": false
   },
   "outputs": [
    {
     "data": {
      "text/plain": [
       "<matplotlib.axes._subplots.AxesSubplot at 0x1b2779510c8>"
      ]
     },
     "execution_count": 15,
     "metadata": {},
     "output_type": "execute_result"
    },
    {
     "data": {
      "text/plain": [
       "<matplotlib.legend.Legend at 0x1b277016188>"
      ]
     },
     "execution_count": 15,
     "metadata": {},
     "output_type": "execute_result"
    },
    {
     "data": {
      "text/plain": [
       "Text(0.5, 1.0, 'Casos confirmados Coronavirus-19')"
      ]
     },
     "execution_count": 15,
     "metadata": {},
     "output_type": "execute_result"
    },
    {
     "data": {
      "text/plain": [
       "Text(0.5, 0, 'Fecha')"
      ]
     },
     "execution_count": 15,
     "metadata": {},
     "output_type": "execute_result"
    },
    {
     "data": {
      "text/plain": [
       "Text(0, 0.5, 'Cantidad de casos')"
      ]
     },
     "execution_count": 15,
     "metadata": {},
     "output_type": "execute_result"
    },
    {
     "data": {
      "text/plain": [
       "Text(2020-02-27 00:00:00, 1, 'Dr Egidio Céspedes \\nSAMU Viña del Mar')"
      ]
     },
     "execution_count": 15,
     "metadata": {},
     "output_type": "execute_result"
    },
    {
     "data": {
      "text/plain": [
       "(737482.0, 737502.0951932514)"
      ]
     },
     "execution_count": 15,
     "metadata": {},
     "output_type": "execute_result"
    },
    {
     "data": {
      "image/png": "[encoded data removed]",
      "text/plain": [
       "<Figure size 432x504 with 1 Axes>"
      ]
     },
     "metadata": {
      "needs_background": "light"
     },
     "output_type": "display_data"
    }
   ],
   "source": [
    "PAIS_Interes = confirmados.loc[\n",
    "    confirmados['Country/Region'].isin(paises)].set_index('Country/Region')[fechas].T.copy()\n",
    "\n",
    "dumm = PAIS_Interes\n",
    "\n",
    "# Formato\n",
    "dumm.plot(figsize=(6,7))\n",
    "plt.legend(loc='upper left')\n",
    "plt.title('Casos confirmados Coronavirus-19')\n",
    "plt.xlabel('Fecha')\n",
    "plt.ylabel('Cantidad de casos')\n",
    "plt.text(f_inicio, 1, 'Dr Egidio Céspedes \\nSAMU Viña del Mar',\n",
    "         fontsize=10,color='gray', alpha=0.5)\n",
    "\n",
    "# fecha de interés\n",
    "f_fin = dt.datetime.now()\n",
    "f_inicio = dt.datetime(2020,2,27)\n",
    "plt.xlim(f_inicio, f_fin)\n",
    "\n",
    "\n",
    "# escala logaritmica\n",
    "# plt.yscale('log')\n",
    "# plt.ylabel('Cantidad de casos en log')"
   ]
  },
  {
   "cell_type": "markdown",
   "metadata": {},
   "source": [
    "## America"
   ]
  },
  {
   "cell_type": "code",
   "execution_count": 16,
   "metadata": {},
   "outputs": [],
   "source": [
    "paises_LA = list(['Argentina', 'Chile', 'Peru', 'Venezuela',\n",
    "                  'Brazil', 'Mexico', 'Ecuador', 'Colombia',\n",
    "                  'Bolivia', 'Cuba', 'Uruguay', 'Guatemala',\n",
    "                  ])\n",
    "paises = paises_LA"
   ]
  },
  {
   "cell_type": "code",
   "execution_count": 17,
   "metadata": {
    "scrolled": false
   },
   "outputs": [
    {
     "data": {
      "text/plain": [
       "<matplotlib.axes._subplots.AxesSubplot at 0x1b2779dab08>"
      ]
     },
     "execution_count": 17,
     "metadata": {},
     "output_type": "execute_result"
    },
    {
     "data": {
      "text/plain": [
       "<matplotlib.legend.Legend at 0x1b27796c108>"
      ]
     },
     "execution_count": 17,
     "metadata": {},
     "output_type": "execute_result"
    },
    {
     "data": {
      "text/plain": [
       "Text(0.5, 1.0, 'Casos confirmados Coronavirus-19')"
      ]
     },
     "execution_count": 17,
     "metadata": {},
     "output_type": "execute_result"
    },
    {
     "data": {
      "text/plain": [
       "Text(0.5, 0, 'Fecha')"
      ]
     },
     "execution_count": 17,
     "metadata": {},
     "output_type": "execute_result"
    },
    {
     "data": {
      "text/plain": [
       "Text(0, 0.5, 'Cantidad de casos')"
      ]
     },
     "execution_count": 17,
     "metadata": {},
     "output_type": "execute_result"
    },
    {
     "data": {
      "text/plain": [
       "Text(2020-02-27 00:00:00, 1, 'Dr Egidio Céspedes \\nSAMU Viña del Mar')"
      ]
     },
     "execution_count": 17,
     "metadata": {},
     "output_type": "execute_result"
    },
    {
     "data": {
      "text/plain": [
       "(737482.0, 737502.0951968412)"
      ]
     },
     "execution_count": 17,
     "metadata": {},
     "output_type": "execute_result"
    },
    {
     "data": {
      "text/plain": [
       "Text(0, 0.5, 'Cantidad de casos en log')"
      ]
     },
     "execution_count": 17,
     "metadata": {},
     "output_type": "execute_result"
    },
    {
     "data": {
      "image/png": "[encoded data removed]",
      "text/plain": [
       "<Figure size 432x504 with 1 Axes>"
      ]
     },
     "metadata": {
      "needs_background": "light"
     },
     "output_type": "display_data"
    }
   ],
   "source": [
    "PAIS_Interes = confirmados.loc[\n",
    "    confirmados['Country/Region'].isin(paises)].set_index('Country/Region')[fechas].T.copy()\n",
    "\n",
    "dumm = PAIS_Interes\n",
    "\n",
    "# Formato\n",
    "dumm.plot(figsize=(6,7))\n",
    "plt.legend(loc='upper left')\n",
    "plt.title('Casos confirmados Coronavirus-19')\n",
    "plt.xlabel('Fecha')\n",
    "plt.ylabel('Cantidad de casos')\n",
    "plt.text(f_inicio, 1, 'Dr Egidio Céspedes \\nSAMU Viña del Mar',\n",
    "         fontsize=10,color='gray', alpha=0.5)\n",
    "\n",
    "# fecha de interés\n",
    "f_fin = dt.datetime.now()\n",
    "f_inicio = dt.datetime(2020,2,27)\n",
    "plt.xlim(f_inicio, f_fin)\n",
    "\n",
    "\n",
    "# escala logaritmica\n",
    "plt.yscale('log')\n",
    "plt.ylabel('Cantidad de casos en log')"
   ]
  },
  {
   "cell_type": "markdown",
   "metadata": {},
   "source": [
    "## Paises de interés"
   ]
  },
  {
   "cell_type": "code",
   "execution_count": 18,
   "metadata": {
    "scrolled": true
   },
   "outputs": [],
   "source": [
    "paises = list(['Spain', 'Italy', 'Chile', 'Korea, South',\n",
    "                       'Peru', 'Argentina', 'Germany', 'Brazil'\n",
    "                      ])\n",
    "db = confirmados.groupby('Country/Region')[fechas].sum().T"
   ]
  },
  {
   "cell_type": "code",
   "execution_count": 19,
   "metadata": {
    "scrolled": false
   },
   "outputs": [
    {
     "data": {
      "text/plain": [
       "<matplotlib.axes._subplots.AxesSubplot at 0x1b2779536c8>"
      ]
     },
     "execution_count": 19,
     "metadata": {},
     "output_type": "execute_result"
    },
    {
     "data": {
      "text/plain": [
       "<matplotlib.legend.Legend at 0x1b27796c5c8>"
      ]
     },
     "execution_count": 19,
     "metadata": {},
     "output_type": "execute_result"
    },
    {
     "data": {
      "text/plain": [
       "Text(0.5, 1.0, 'Casos confirmados Coronavirus-19')"
      ]
     },
     "execution_count": 19,
     "metadata": {},
     "output_type": "execute_result"
    },
    {
     "data": {
      "text/plain": [
       "Text(0.5, 0, 'Fecha')"
      ]
     },
     "execution_count": 19,
     "metadata": {},
     "output_type": "execute_result"
    },
    {
     "data": {
      "text/plain": [
       "Text(0, 0.5, 'Cantidad de casos')"
      ]
     },
     "execution_count": 19,
     "metadata": {},
     "output_type": "execute_result"
    },
    {
     "data": {
      "text/plain": [
       "Text(2020-02-27 00:00:00, 1, 'Dr Egidio Céspedes \\nSAMU Viña del Mar')"
      ]
     },
     "execution_count": 19,
     "metadata": {},
     "output_type": "execute_result"
    },
    {
     "data": {
      "text/plain": [
       "(737482.0, 737502.095202959)"
      ]
     },
     "execution_count": 19,
     "metadata": {},
     "output_type": "execute_result"
    },
    {
     "data": {
      "text/plain": [
       "Text(0, 0.5, 'Cantidad de casos en log')"
      ]
     },
     "execution_count": 19,
     "metadata": {},
     "output_type": "execute_result"
    },
    {
     "data": {
      "image/png": "[encoded data removed]",
      "text/plain": [
       "<Figure size 432x504 with 1 Axes>"
      ]
     },
     "metadata": {
      "needs_background": "light"
     },
     "output_type": "display_data"
    }
   ],
   "source": [
    "PAIS_Interes = confirmados.loc[\n",
    "    confirmados['Country/Region'].isin(paises)].set_index('Country/Region')[fechas].T.copy()\n",
    "dumm = PAIS_Interes\n",
    "\n",
    "# Formato\n",
    "dumm.plot(figsize=(6,7))\n",
    "plt.legend(loc='upper left')\n",
    "plt.title('Casos confirmados Coronavirus-19')\n",
    "plt.xlabel('Fecha')\n",
    "plt.ylabel('Cantidad de casos')\n",
    "plt.text(f_inicio, 1, 'Dr Egidio Céspedes \\nSAMU Viña del Mar',\n",
    "         fontsize=10,color='gray', alpha=0.5)\n",
    "\n",
    "# fecha de interés\n",
    "f_fin = dt.datetime.now()\n",
    "f_inicio = dt.datetime(2020,2,27)\n",
    "plt.xlim(f_inicio, f_fin)\n",
    "\n",
    "\n",
    "# escala logaritmica\n",
    "plt.yscale('log')\n",
    "plt.ylabel('Cantidad de casos en log')"
   ]
  },
  {
   "cell_type": "code",
   "execution_count": 20,
   "metadata": {
    "scrolled": true
   },
   "outputs": [
    {
     "data": {
      "text/html": [
       "<div>\n",
       "<style scoped>\n",
       "    .dataframe tbody tr th:only-of-type {\n",
       "        vertical-align: middle;\n",
       "    }\n",
       "\n",
       "    .dataframe tbody tr th {\n",
       "        vertical-align: top;\n",
       "    }\n",
       "\n",
       "    .dataframe thead th {\n",
       "        text-align: right;\n",
       "    }\n",
       "</style>\n",
       "<table border=\"1\" class=\"dataframe\">\n",
       "  <thead>\n",
       "    <tr style=\"text-align: right;\">\n",
       "      <th></th>\n",
       "      <th>2020-01-22</th>\n",
       "      <th>2020-01-23</th>\n",
       "      <th>2020-01-24</th>\n",
       "      <th>2020-01-25</th>\n",
       "      <th>2020-01-26</th>\n",
       "      <th>2020-01-27</th>\n",
       "      <th>2020-01-28</th>\n",
       "      <th>2020-01-29</th>\n",
       "      <th>2020-01-30</th>\n",
       "      <th>2020-01-31</th>\n",
       "      <th>...</th>\n",
       "      <th>2020-03-08</th>\n",
       "      <th>2020-03-09</th>\n",
       "      <th>2020-03-10</th>\n",
       "      <th>2020-03-11</th>\n",
       "      <th>2020-03-12</th>\n",
       "      <th>2020-03-13</th>\n",
       "      <th>2020-03-14</th>\n",
       "      <th>2020-03-15</th>\n",
       "      <th>2020-03-16</th>\n",
       "      <th>2020-03-17</th>\n",
       "    </tr>\n",
       "    <tr>\n",
       "      <th>Country/Region</th>\n",
       "      <th></th>\n",
       "      <th></th>\n",
       "      <th></th>\n",
       "      <th></th>\n",
       "      <th></th>\n",
       "      <th></th>\n",
       "      <th></th>\n",
       "      <th></th>\n",
       "      <th></th>\n",
       "      <th></th>\n",
       "      <th></th>\n",
       "      <th></th>\n",
       "      <th></th>\n",
       "      <th></th>\n",
       "      <th></th>\n",
       "      <th></th>\n",
       "      <th></th>\n",
       "      <th></th>\n",
       "      <th></th>\n",
       "      <th></th>\n",
       "      <th></th>\n",
       "    </tr>\n",
       "  </thead>\n",
       "  <tbody>\n",
       "    <tr>\n",
       "      <th>Afghanistan</th>\n",
       "      <td>0</td>\n",
       "      <td>0</td>\n",
       "      <td>0</td>\n",
       "      <td>0</td>\n",
       "      <td>0</td>\n",
       "      <td>0</td>\n",
       "      <td>0</td>\n",
       "      <td>0</td>\n",
       "      <td>0</td>\n",
       "      <td>0</td>\n",
       "      <td>...</td>\n",
       "      <td>4</td>\n",
       "      <td>4</td>\n",
       "      <td>5</td>\n",
       "      <td>7</td>\n",
       "      <td>7</td>\n",
       "      <td>7</td>\n",
       "      <td>11</td>\n",
       "      <td>16</td>\n",
       "      <td>21</td>\n",
       "      <td>22</td>\n",
       "    </tr>\n",
       "    <tr>\n",
       "      <th>Albania</th>\n",
       "      <td>0</td>\n",
       "      <td>0</td>\n",
       "      <td>0</td>\n",
       "      <td>0</td>\n",
       "      <td>0</td>\n",
       "      <td>0</td>\n",
       "      <td>0</td>\n",
       "      <td>0</td>\n",
       "      <td>0</td>\n",
       "      <td>0</td>\n",
       "      <td>...</td>\n",
       "      <td>0</td>\n",
       "      <td>2</td>\n",
       "      <td>10</td>\n",
       "      <td>12</td>\n",
       "      <td>23</td>\n",
       "      <td>33</td>\n",
       "      <td>38</td>\n",
       "      <td>42</td>\n",
       "      <td>51</td>\n",
       "      <td>55</td>\n",
       "    </tr>\n",
       "    <tr>\n",
       "      <th>Algeria</th>\n",
       "      <td>0</td>\n",
       "      <td>0</td>\n",
       "      <td>0</td>\n",
       "      <td>0</td>\n",
       "      <td>0</td>\n",
       "      <td>0</td>\n",
       "      <td>0</td>\n",
       "      <td>0</td>\n",
       "      <td>0</td>\n",
       "      <td>0</td>\n",
       "      <td>...</td>\n",
       "      <td>19</td>\n",
       "      <td>20</td>\n",
       "      <td>20</td>\n",
       "      <td>20</td>\n",
       "      <td>24</td>\n",
       "      <td>26</td>\n",
       "      <td>37</td>\n",
       "      <td>48</td>\n",
       "      <td>54</td>\n",
       "      <td>60</td>\n",
       "    </tr>\n",
       "    <tr>\n",
       "      <th>Andorra</th>\n",
       "      <td>0</td>\n",
       "      <td>0</td>\n",
       "      <td>0</td>\n",
       "      <td>0</td>\n",
       "      <td>0</td>\n",
       "      <td>0</td>\n",
       "      <td>0</td>\n",
       "      <td>0</td>\n",
       "      <td>0</td>\n",
       "      <td>0</td>\n",
       "      <td>...</td>\n",
       "      <td>1</td>\n",
       "      <td>1</td>\n",
       "      <td>1</td>\n",
       "      <td>1</td>\n",
       "      <td>1</td>\n",
       "      <td>1</td>\n",
       "      <td>1</td>\n",
       "      <td>1</td>\n",
       "      <td>2</td>\n",
       "      <td>39</td>\n",
       "    </tr>\n",
       "    <tr>\n",
       "      <th>Antigua and Barbuda</th>\n",
       "      <td>0</td>\n",
       "      <td>0</td>\n",
       "      <td>0</td>\n",
       "      <td>0</td>\n",
       "      <td>0</td>\n",
       "      <td>0</td>\n",
       "      <td>0</td>\n",
       "      <td>0</td>\n",
       "      <td>0</td>\n",
       "      <td>0</td>\n",
       "      <td>...</td>\n",
       "      <td>0</td>\n",
       "      <td>0</td>\n",
       "      <td>0</td>\n",
       "      <td>0</td>\n",
       "      <td>0</td>\n",
       "      <td>1</td>\n",
       "      <td>1</td>\n",
       "      <td>1</td>\n",
       "      <td>1</td>\n",
       "      <td>1</td>\n",
       "    </tr>\n",
       "  </tbody>\n",
       "</table>\n",
       "<p>5 rows × 56 columns</p>\n",
       "</div>"
      ],
      "text/plain": [
       "                     2020-01-22  2020-01-23  2020-01-24  2020-01-25  \\\n",
       "Country/Region                                                        \n",
       "Afghanistan                   0           0           0           0   \n",
       "Albania                       0           0           0           0   \n",
       "Algeria                       0           0           0           0   \n",
       "Andorra                       0           0           0           0   \n",
       "Antigua and Barbuda           0           0           0           0   \n",
       "\n",
       "                     2020-01-26  2020-01-27  2020-01-28  2020-01-29  \\\n",
       "Country/Region                                                        \n",
       "Afghanistan                   0           0           0           0   \n",
       "Albania                       0           0           0           0   \n",
       "Algeria                       0           0           0           0   \n",
       "Andorra                       0           0           0           0   \n",
       "Antigua and Barbuda           0           0           0           0   \n",
       "\n",
       "                     2020-01-30  2020-01-31  ...  2020-03-08  2020-03-09  \\\n",
       "Country/Region                               ...                           \n",
       "Afghanistan                   0           0  ...           4           4   \n",
       "Albania                       0           0  ...           0           2   \n",
       "Algeria                       0           0  ...          19          20   \n",
       "Andorra                       0           0  ...           1           1   \n",
       "Antigua and Barbuda           0           0  ...           0           0   \n",
       "\n",
       "                     2020-03-10  2020-03-11  2020-03-12  2020-03-13  \\\n",
       "Country/Region                                                        \n",
       "Afghanistan                   5           7           7           7   \n",
       "Albania                      10          12          23          33   \n",
       "Algeria                      20          20          24          26   \n",
       "Andorra                       1           1           1           1   \n",
       "Antigua and Barbuda           0           0           0           1   \n",
       "\n",
       "                     2020-03-14  2020-03-15  2020-03-16  2020-03-17  \n",
       "Country/Region                                                       \n",
       "Afghanistan                  11          16          21          22  \n",
       "Albania                      38          42          51          55  \n",
       "Algeria                      37          48          54          60  \n",
       "Andorra                       1           1           2          39  \n",
       "Antigua and Barbuda           1           1           1           1  \n",
       "\n",
       "[5 rows x 56 columns]"
      ]
     },
     "execution_count": 20,
     "metadata": {},
     "output_type": "execute_result"
    }
   ],
   "source": [
    "# confirmados\n",
    "confirmados.groupby('Country/Region').sum()[fechas].head()"
   ]
  },
  {
   "cell_type": "markdown",
   "metadata": {},
   "source": [
    "# Como se esparce el virus en chile"
   ]
  },
  {
   "cell_type": "code",
   "execution_count": 21,
   "metadata": {
    "scrolled": true
   },
   "outputs": [
    {
     "data": {
      "text/plain": [
       "Vitacura            54\n",
       "Las Condes          42\n",
       "Providencia         33\n",
       "Chillán             26\n",
       "Santiago             8\n",
       "Talca                8\n",
       "Estación Central     6\n",
       "Recoleta             4\n",
       "La Florida           3\n",
       "Calama               2\n",
       "Concepción           2\n",
       "Punta Arenas         2\n",
       "Valdivia             1\n",
       "Ñuñoa                1\n",
       "Viña del Mar         1\n",
       "Copiapó              1\n",
       "Los Ángeles          1\n",
       "San Miguel           1\n",
       "Curicó               1\n",
       "Puerto Montt         1\n",
       "Temuco               1\n",
       "Coyhaique            1\n",
       "Talcahuano           1\n",
       "Name: Comuna, dtype: int64"
      ]
     },
     "execution_count": 21,
     "metadata": {},
     "output_type": "execute_result"
    }
   ],
   "source": [
    "minsal.Comuna.value_counts()"
   ]
  },
  {
   "cell_type": "markdown",
   "metadata": {},
   "source": [
    "hago un plot según riesgos de nelson Aalen para visualizar comportamiento"
   ]
  },
  {
   "cell_type": "code",
   "execution_count": 22,
   "metadata": {
    "scrolled": false
   },
   "outputs": [
    {
     "data": {
      "text/plain": [
       "Metropolitana    152\n",
       "Ñuble             26\n",
       "Maule              9\n",
       "Biobío             4\n",
       "Magallanes         2\n",
       "Antofagasta        2\n",
       "Los Ríos           1\n",
       "Araucanía          1\n",
       "Valparaíso         1\n",
       "Aysén              1\n",
       "Atacama            1\n",
       "Los Lagos          1\n",
       "Name: Region, dtype: int64"
      ]
     },
     "execution_count": 22,
     "metadata": {},
     "output_type": "execute_result"
    },
    {
     "data": {
      "text/plain": [
       "<lifelines.NelsonAalenFitter:\"Maule\", fitted with 9 total observations, 0 right-censored observations>"
      ]
     },
     "execution_count": 22,
     "metadata": {},
     "output_type": "execute_result"
    },
    {
     "data": {
      "text/plain": [
       "<matplotlib.axes._subplots.AxesSubplot at 0x1b277c63f48>"
      ]
     },
     "execution_count": 22,
     "metadata": {},
     "output_type": "execute_result"
    },
    {
     "data": {
      "text/plain": [
       "<matplotlib.legend.Legend at 0x1b277c84d48>"
      ]
     },
     "execution_count": 22,
     "metadata": {},
     "output_type": "execute_result"
    },
    {
     "data": {
      "text/plain": [
       "Text(0.5, 1.0, 'Casos confirmados Coronavirus-19')"
      ]
     },
     "execution_count": 22,
     "metadata": {},
     "output_type": "execute_result"
    },
    {
     "data": {
      "text/plain": [
       "Text(0.5, 0, 'Días aparicion primer caso regional')"
      ]
     },
     "execution_count": 22,
     "metadata": {},
     "output_type": "execute_result"
    },
    {
     "data": {
      "text/plain": [
       "Text(0, 0.5, 'Cantidad de casos')"
      ]
     },
     "execution_count": 22,
     "metadata": {},
     "output_type": "execute_result"
    },
    {
     "data": {
      "text/plain": [
       "Text(0, 3, 'Dr Egidio Céspedes \\nSAMU Viña del Mar')"
      ]
     },
     "execution_count": 22,
     "metadata": {},
     "output_type": "execute_result"
    },
    {
     "data": {
      "text/plain": [
       "<lifelines.NelsonAalenFitter:\"Metropolitana\", fitted with 152 total observations, 0 right-censored observations>"
      ]
     },
     "execution_count": 22,
     "metadata": {},
     "output_type": "execute_result"
    },
    {
     "data": {
      "text/plain": [
       "<matplotlib.axes._subplots.AxesSubplot at 0x1b277c63f48>"
      ]
     },
     "execution_count": 22,
     "metadata": {},
     "output_type": "execute_result"
    },
    {
     "data": {
      "text/plain": [
       "<matplotlib.legend.Legend at 0x1b277958488>"
      ]
     },
     "execution_count": 22,
     "metadata": {},
     "output_type": "execute_result"
    },
    {
     "data": {
      "text/plain": [
       "Text(0.5, 1.0, 'Casos confirmados Coronavirus-19')"
      ]
     },
     "execution_count": 22,
     "metadata": {},
     "output_type": "execute_result"
    },
    {
     "data": {
      "text/plain": [
       "Text(0.5, 0, 'Días aparicion primer caso regional')"
      ]
     },
     "execution_count": 22,
     "metadata": {},
     "output_type": "execute_result"
    },
    {
     "data": {
      "text/plain": [
       "Text(0, 0.5, 'Cantidad de casos')"
      ]
     },
     "execution_count": 22,
     "metadata": {},
     "output_type": "execute_result"
    },
    {
     "data": {
      "text/plain": [
       "Text(0, 3, 'Dr Egidio Céspedes \\nSAMU Viña del Mar')"
      ]
     },
     "execution_count": 22,
     "metadata": {},
     "output_type": "execute_result"
    },
    {
     "data": {
      "text/plain": [
       "<lifelines.NelsonAalenFitter:\"Ñuble\", fitted with 26 total observations, 0 right-censored observations>"
      ]
     },
     "execution_count": 22,
     "metadata": {},
     "output_type": "execute_result"
    },
    {
     "data": {
      "text/plain": [
       "<matplotlib.axes._subplots.AxesSubplot at 0x1b277c63f48>"
      ]
     },
     "execution_count": 22,
     "metadata": {},
     "output_type": "execute_result"
    },
    {
     "data": {
      "text/plain": [
       "<matplotlib.legend.Legend at 0x1b277d7bec8>"
      ]
     },
     "execution_count": 22,
     "metadata": {},
     "output_type": "execute_result"
    },
    {
     "data": {
      "text/plain": [
       "Text(0.5, 1.0, 'Casos confirmados Coronavirus-19')"
      ]
     },
     "execution_count": 22,
     "metadata": {},
     "output_type": "execute_result"
    },
    {
     "data": {
      "text/plain": [
       "Text(0.5, 0, 'Días aparicion primer caso regional')"
      ]
     },
     "execution_count": 22,
     "metadata": {},
     "output_type": "execute_result"
    },
    {
     "data": {
      "text/plain": [
       "Text(0, 0.5, 'Cantidad de casos')"
      ]
     },
     "execution_count": 22,
     "metadata": {},
     "output_type": "execute_result"
    },
    {
     "data": {
      "text/plain": [
       "Text(0, 3, 'Dr Egidio Céspedes \\nSAMU Viña del Mar')"
      ]
     },
     "execution_count": 22,
     "metadata": {},
     "output_type": "execute_result"
    },
    {
     "data": {
      "text/plain": [
       "<lifelines.NelsonAalenFitter:\"Biobío\", fitted with 4 total observations, 0 right-censored observations>"
      ]
     },
     "execution_count": 22,
     "metadata": {},
     "output_type": "execute_result"
    },
    {
     "data": {
      "text/plain": [
       "<matplotlib.axes._subplots.AxesSubplot at 0x1b277c63f48>"
      ]
     },
     "execution_count": 22,
     "metadata": {},
     "output_type": "execute_result"
    },
    {
     "data": {
      "text/plain": [
       "<matplotlib.legend.Legend at 0x1b277db2188>"
      ]
     },
     "execution_count": 22,
     "metadata": {},
     "output_type": "execute_result"
    },
    {
     "data": {
      "text/plain": [
       "Text(0.5, 1.0, 'Casos confirmados Coronavirus-19')"
      ]
     },
     "execution_count": 22,
     "metadata": {},
     "output_type": "execute_result"
    },
    {
     "data": {
      "text/plain": [
       "Text(0.5, 0, 'Días aparicion primer caso regional')"
      ]
     },
     "execution_count": 22,
     "metadata": {},
     "output_type": "execute_result"
    },
    {
     "data": {
      "text/plain": [
       "Text(0, 0.5, 'Cantidad de casos')"
      ]
     },
     "execution_count": 22,
     "metadata": {},
     "output_type": "execute_result"
    },
    {
     "data": {
      "text/plain": [
       "Text(0, 3, 'Dr Egidio Céspedes \\nSAMU Viña del Mar')"
      ]
     },
     "execution_count": 22,
     "metadata": {},
     "output_type": "execute_result"
    },
    {
     "data": {
      "image/png": "[encoded data removed]",
      "text/plain": [
       "<Figure size 432x504 with 1 Axes>"
      ]
     },
     "metadata": {
      "needs_background": "light"
     },
     "output_type": "display_data"
    }
   ],
   "source": [
    "minsal.Region.value_counts()\n",
    "regiones = ['Maule', 'Metropolitana', 'Ñuble', 'Biobío']\n",
    "casos = minsal.loc[minsal.Region == reg]['Conteo Region']\n",
    "\n",
    "for reg in regiones:\n",
    "    casos = minsal.loc[minsal.Region == reg]['Conteo Region'].dt.days\n",
    "    naf = NelsonAalenFitter()\n",
    "    naf.fit(casos, label = reg)#, event_observed=E)\n",
    "    naf.plot(figsize=(6,7))\n",
    "    # Formato\n",
    "    plt.legend(loc='upper left')\n",
    "    plt.title('Casos confirmados Coronavirus-19')\n",
    "    plt.xlabel('Días aparicion primer caso regional')\n",
    "    plt.ylabel('Cantidad de casos')\n",
    "    plt.text(0,3, 'Dr Egidio Céspedes \\nSAMU Viña del Mar',\n",
    "         fontsize=10,color='gray', alpha=0.5)"
   ]
  },
  {
   "cell_type": "markdown",
   "metadata": {},
   "source": [
    "trato de predecir como se comportará"
   ]
  },
  {
   "cell_type": "code",
   "execution_count": null,
   "metadata": {},
   "outputs": [],
   "source": []
  },
  {
   "cell_type": "code",
   "execution_count": null,
   "metadata": {},
   "outputs": [],
   "source": []
  }
 ],
 "metadata": {
  "kernelspec": {
   "display_name": "Python 3",
   "language": "python",
   "name": "python3"
  },
  "language_info": {
   "codemirror_mode": {
    "name": "ipython",
    "version": 3
   },
   "file_extension": ".py",
   "mimetype": "text/x-python",
   "name": "python",
   "nbconvert_exporter": "python",
   "pygments_lexer": "ipython3",
   "version": "3.7.6"
  }
 },
 "nbformat": 4,
 "nbformat_minor": 2
}
