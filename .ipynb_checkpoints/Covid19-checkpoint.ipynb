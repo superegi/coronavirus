{
 "cells": [
  {
   "cell_type": "markdown",
   "metadata": {},
   "source": [
    "Análsis superficial de Coronavirus-19\n",
    " =========="
   ]
  },
  {
   "cell_type": "markdown",
   "metadata": {},
   "source": [
    "Comienzo cargando todos los paquetes necesarios"
   ]
  },
  {
   "cell_type": "code",
   "execution_count": 1,
   "metadata": {},
   "outputs": [],
   "source": [
    "import pandas as pd\n",
    "import numpy as np\n",
    "import matplotlib.pyplot as plt\n",
    "import scipy \n",
    "from scipy import stats\n",
    "import datetime as dt\n",
    "import datetime\n",
    "from datetime import timedelta  \n",
    "import urllib.request  # importar archivos web\n",
    "from lifelines import NelsonAalenFitter # modelamiento survival\n",
    "\n",
    "# para tratar de poner espanol\n",
    "from datetime import date, datetime, time\n",
    "from babel.dates import format_date, format_datetime, format_time, format_timedelta, Locale\n",
    "import locale                                    # para tratar de poner espanol\n",
    "locale.setlocale(locale.LC_ALL,'es_CL.UTF-8')  \n",
    "\n",
    "from IPython.core.interactiveshell import InteractiveShell\n",
    "InteractiveShell.ast_node_interactivity = \"all\"\n",
    "%matplotlib inline"
   ]
  },
  {
   "cell_type": "markdown",
   "metadata": {},
   "source": [
    "# Cargo base de datos"
   ]
  },
  {
   "cell_type": "markdown",
   "metadata": {},
   "source": [
    "Saco información de la base de datos de la John Hopkins Institute, https://github.com/CSSEGISandData/COVID-19/tree/master/csse_covid_19_data"
   ]
  },
  {
   "cell_type": "markdown",
   "metadata": {},
   "source": [
    "Importo las bases de datos"
   ]
  },
  {
   "cell_type": "code",
   "execution_count": 2,
   "metadata": {
    "scrolled": true
   },
   "outputs": [
    {
     "name": "stdout",
     "output_type": "stream",
     "text": [
      "Bajando....\n",
      "Bajado!\n"
     ]
    }
   ],
   "source": [
    "confirmados = 'https://raw.githubusercontent.com/CSSEGISandData/COVID-19/master/csse_covid_19_data/csse_covid_19_time_series/time_series_19-covid-Confirmed.csv'\n",
    "\n",
    "muertos = 'https://raw.githubusercontent.com/CSSEGISandData/COVID-19/master/csse_covid_19_data/csse_covid_19_time_series/time_series_19-covid-Deaths.csv'\n",
    "\n",
    "recuperados = 'https://raw.githubusercontent.com/CSSEGISandData/COVID-19/master/csse_covid_19_data/csse_covid_19_time_series/time_series_19-covid-Recovered.csv'\n",
    "\n",
    "print (\"Bajando....\")\n",
    "filename, headers = urllib.request.urlretrieve(confirmados, filename=\"./BD/confirmados.csv\")\n",
    "filename, headers = urllib.request.urlretrieve(muertos, filename=\"./BD/muertos.csv\")\n",
    "filename, headers = urllib.request.urlretrieve(recuperados, filename=\"./BD/recuperados.csv\")\n",
    "print ('Bajado!')\n"
   ]
  },
  {
   "cell_type": "markdown",
   "metadata": {},
   "source": [
    "Cargo las bases de datos"
   ]
  },
  {
   "cell_type": "code",
   "execution_count": 3,
   "metadata": {},
   "outputs": [],
   "source": [
    "confirmados = pd.read_csv('./BD/confirmados.csv')\n",
    "muertos = pd.read_csv('./BD/muertos.csv')\n",
    "recuperados = pd.read_csv('./BD/recuperados.csv')"
   ]
  },
  {
   "cell_type": "markdown",
   "metadata": {},
   "source": [
    "corrijo parte de la base de datos"
   ]
  },
  {
   "cell_type": "code",
   "execution_count": 5,
   "metadata": {},
   "outputs": [],
   "source": [
    "# Arreglo las cabeceras dado que son fechas\n",
    "fechas = pd.to_datetime(confirmados.columns[4:])\n",
    "lugares = confirmados.columns[:4]\n",
    "confirmados.columns = list(lugares) + list(fechas)\n",
    "\n",
    "fechas = pd.to_datetime(muertos.columns[4:])\n",
    "lugares = muertos.columns[:4]\n",
    "muertos.columns = list(lugares) + list(fechas)\n",
    "\n",
    "fechas = pd.to_datetime(recuperados.columns[4:])\n",
    "lugares = recuperados.columns[:4]\n",
    "recuperados.columns = list(lugares) + list(fechas)"
   ]
  },
  {
   "cell_type": "code",
   "execution_count": 6,
   "metadata": {},
   "outputs": [
    {
     "data": {
      "text/html": [
       "<div>\n",
       "<style scoped>\n",
       "    .dataframe tbody tr th:only-of-type {\n",
       "        vertical-align: middle;\n",
       "    }\n",
       "\n",
       "    .dataframe tbody tr th {\n",
       "        vertical-align: top;\n",
       "    }\n",
       "\n",
       "    .dataframe thead th {\n",
       "        text-align: right;\n",
       "    }\n",
       "</style>\n",
       "<table border=\"1\" class=\"dataframe\">\n",
       "  <thead>\n",
       "    <tr style=\"text-align: right;\">\n",
       "      <th></th>\n",
       "      <th>Province/State</th>\n",
       "      <th>Country/Region</th>\n",
       "      <th>Lat</th>\n",
       "      <th>Long</th>\n",
       "      <th>2020-01-22 00:00:00</th>\n",
       "      <th>2020-01-23 00:00:00</th>\n",
       "      <th>2020-01-24 00:00:00</th>\n",
       "      <th>2020-01-25 00:00:00</th>\n",
       "      <th>2020-01-26 00:00:00</th>\n",
       "      <th>2020-01-27 00:00:00</th>\n",
       "      <th>...</th>\n",
       "      <th>2020-03-13 00:00:00</th>\n",
       "      <th>2020-03-14 00:00:00</th>\n",
       "      <th>2020-03-15 00:00:00</th>\n",
       "      <th>2020-03-16 00:00:00</th>\n",
       "      <th>2020-03-17 00:00:00</th>\n",
       "      <th>2020-03-18 00:00:00</th>\n",
       "      <th>2020-03-19 00:00:00</th>\n",
       "      <th>2020-03-20 00:00:00</th>\n",
       "      <th>2020-03-21 00:00:00</th>\n",
       "      <th>2020-03-22 00:00:00</th>\n",
       "    </tr>\n",
       "  </thead>\n",
       "  <tbody>\n",
       "    <tr>\n",
       "      <th>0</th>\n",
       "      <td>NaN</td>\n",
       "      <td>Thailand</td>\n",
       "      <td>15.0000</td>\n",
       "      <td>101.0000</td>\n",
       "      <td>0</td>\n",
       "      <td>0</td>\n",
       "      <td>0</td>\n",
       "      <td>0</td>\n",
       "      <td>2</td>\n",
       "      <td>2</td>\n",
       "      <td>...</td>\n",
       "      <td>35</td>\n",
       "      <td>35</td>\n",
       "      <td>35</td>\n",
       "      <td>35</td>\n",
       "      <td>41</td>\n",
       "      <td>42</td>\n",
       "      <td>42</td>\n",
       "      <td>42</td>\n",
       "      <td>42</td>\n",
       "      <td>44</td>\n",
       "    </tr>\n",
       "    <tr>\n",
       "      <th>1</th>\n",
       "      <td>NaN</td>\n",
       "      <td>Japan</td>\n",
       "      <td>36.0000</td>\n",
       "      <td>138.0000</td>\n",
       "      <td>0</td>\n",
       "      <td>0</td>\n",
       "      <td>0</td>\n",
       "      <td>0</td>\n",
       "      <td>1</td>\n",
       "      <td>1</td>\n",
       "      <td>...</td>\n",
       "      <td>118</td>\n",
       "      <td>118</td>\n",
       "      <td>118</td>\n",
       "      <td>144</td>\n",
       "      <td>144</td>\n",
       "      <td>144</td>\n",
       "      <td>150</td>\n",
       "      <td>191</td>\n",
       "      <td>232</td>\n",
       "      <td>235</td>\n",
       "    </tr>\n",
       "    <tr>\n",
       "      <th>2</th>\n",
       "      <td>NaN</td>\n",
       "      <td>Singapore</td>\n",
       "      <td>1.2833</td>\n",
       "      <td>103.8333</td>\n",
       "      <td>0</td>\n",
       "      <td>0</td>\n",
       "      <td>0</td>\n",
       "      <td>0</td>\n",
       "      <td>0</td>\n",
       "      <td>0</td>\n",
       "      <td>...</td>\n",
       "      <td>97</td>\n",
       "      <td>105</td>\n",
       "      <td>105</td>\n",
       "      <td>109</td>\n",
       "      <td>114</td>\n",
       "      <td>114</td>\n",
       "      <td>114</td>\n",
       "      <td>124</td>\n",
       "      <td>140</td>\n",
       "      <td>144</td>\n",
       "    </tr>\n",
       "    <tr>\n",
       "      <th>3</th>\n",
       "      <td>NaN</td>\n",
       "      <td>Nepal</td>\n",
       "      <td>28.1667</td>\n",
       "      <td>84.2500</td>\n",
       "      <td>0</td>\n",
       "      <td>0</td>\n",
       "      <td>0</td>\n",
       "      <td>0</td>\n",
       "      <td>0</td>\n",
       "      <td>0</td>\n",
       "      <td>...</td>\n",
       "      <td>1</td>\n",
       "      <td>1</td>\n",
       "      <td>1</td>\n",
       "      <td>1</td>\n",
       "      <td>1</td>\n",
       "      <td>1</td>\n",
       "      <td>1</td>\n",
       "      <td>1</td>\n",
       "      <td>1</td>\n",
       "      <td>1</td>\n",
       "    </tr>\n",
       "    <tr>\n",
       "      <th>4</th>\n",
       "      <td>NaN</td>\n",
       "      <td>Malaysia</td>\n",
       "      <td>2.5000</td>\n",
       "      <td>112.5000</td>\n",
       "      <td>0</td>\n",
       "      <td>0</td>\n",
       "      <td>0</td>\n",
       "      <td>0</td>\n",
       "      <td>0</td>\n",
       "      <td>0</td>\n",
       "      <td>...</td>\n",
       "      <td>26</td>\n",
       "      <td>35</td>\n",
       "      <td>42</td>\n",
       "      <td>42</td>\n",
       "      <td>49</td>\n",
       "      <td>60</td>\n",
       "      <td>75</td>\n",
       "      <td>87</td>\n",
       "      <td>114</td>\n",
       "      <td>139</td>\n",
       "    </tr>\n",
       "  </tbody>\n",
       "</table>\n",
       "<p>5 rows × 65 columns</p>\n",
       "</div>"
      ],
      "text/plain": [
       "  Province/State Country/Region      Lat      Long  2020-01-22 00:00:00  \\\n",
       "0            NaN       Thailand  15.0000  101.0000                    0   \n",
       "1            NaN          Japan  36.0000  138.0000                    0   \n",
       "2            NaN      Singapore   1.2833  103.8333                    0   \n",
       "3            NaN          Nepal  28.1667   84.2500                    0   \n",
       "4            NaN       Malaysia   2.5000  112.5000                    0   \n",
       "\n",
       "   2020-01-23 00:00:00  2020-01-24 00:00:00  2020-01-25 00:00:00  \\\n",
       "0                    0                    0                    0   \n",
       "1                    0                    0                    0   \n",
       "2                    0                    0                    0   \n",
       "3                    0                    0                    0   \n",
       "4                    0                    0                    0   \n",
       "\n",
       "   2020-01-26 00:00:00  2020-01-27 00:00:00  ...  2020-03-13 00:00:00  \\\n",
       "0                    2                    2  ...                   35   \n",
       "1                    1                    1  ...                  118   \n",
       "2                    0                    0  ...                   97   \n",
       "3                    0                    0  ...                    1   \n",
       "4                    0                    0  ...                   26   \n",
       "\n",
       "   2020-03-14 00:00:00  2020-03-15 00:00:00  2020-03-16 00:00:00  \\\n",
       "0                   35                   35                   35   \n",
       "1                  118                  118                  144   \n",
       "2                  105                  105                  109   \n",
       "3                    1                    1                    1   \n",
       "4                   35                   42                   42   \n",
       "\n",
       "   2020-03-17 00:00:00  2020-03-18 00:00:00  2020-03-19 00:00:00  \\\n",
       "0                   41                   42                   42   \n",
       "1                  144                  144                  150   \n",
       "2                  114                  114                  114   \n",
       "3                    1                    1                    1   \n",
       "4                   49                   60                   75   \n",
       "\n",
       "   2020-03-20 00:00:00  2020-03-21 00:00:00  2020-03-22 00:00:00  \n",
       "0                   42                   42                   44  \n",
       "1                  191                  232                  235  \n",
       "2                  124                  140                  144  \n",
       "3                    1                    1                    1  \n",
       "4                   87                  114                  139  \n",
       "\n",
       "[5 rows x 65 columns]"
      ]
     },
     "execution_count": 6,
     "metadata": {},
     "output_type": "execute_result"
    },
    {
     "data": {
      "text/html": [
       "<div>\n",
       "<style scoped>\n",
       "    .dataframe tbody tr th:only-of-type {\n",
       "        vertical-align: middle;\n",
       "    }\n",
       "\n",
       "    .dataframe tbody tr th {\n",
       "        vertical-align: top;\n",
       "    }\n",
       "\n",
       "    .dataframe thead th {\n",
       "        text-align: right;\n",
       "    }\n",
       "</style>\n",
       "<table border=\"1\" class=\"dataframe\">\n",
       "  <thead>\n",
       "    <tr style=\"text-align: right;\">\n",
       "      <th></th>\n",
       "      <th>Province/State</th>\n",
       "      <th>Country/Region</th>\n",
       "      <th>Lat</th>\n",
       "      <th>Long</th>\n",
       "      <th>2020-01-22 00:00:00</th>\n",
       "      <th>2020-01-23 00:00:00</th>\n",
       "      <th>2020-01-24 00:00:00</th>\n",
       "      <th>2020-01-25 00:00:00</th>\n",
       "      <th>2020-01-26 00:00:00</th>\n",
       "      <th>2020-01-27 00:00:00</th>\n",
       "      <th>...</th>\n",
       "      <th>2020-03-13 00:00:00</th>\n",
       "      <th>2020-03-14 00:00:00</th>\n",
       "      <th>2020-03-15 00:00:00</th>\n",
       "      <th>2020-03-16 00:00:00</th>\n",
       "      <th>2020-03-17 00:00:00</th>\n",
       "      <th>2020-03-18 00:00:00</th>\n",
       "      <th>2020-03-19 00:00:00</th>\n",
       "      <th>2020-03-20 00:00:00</th>\n",
       "      <th>2020-03-21 00:00:00</th>\n",
       "      <th>2020-03-22 00:00:00</th>\n",
       "    </tr>\n",
       "  </thead>\n",
       "  <tbody>\n",
       "    <tr>\n",
       "      <th>0</th>\n",
       "      <td>NaN</td>\n",
       "      <td>Thailand</td>\n",
       "      <td>15.0000</td>\n",
       "      <td>101.0000</td>\n",
       "      <td>2</td>\n",
       "      <td>3</td>\n",
       "      <td>5</td>\n",
       "      <td>7</td>\n",
       "      <td>8</td>\n",
       "      <td>8</td>\n",
       "      <td>...</td>\n",
       "      <td>75</td>\n",
       "      <td>82</td>\n",
       "      <td>114</td>\n",
       "      <td>147</td>\n",
       "      <td>177</td>\n",
       "      <td>212</td>\n",
       "      <td>272</td>\n",
       "      <td>322</td>\n",
       "      <td>411</td>\n",
       "      <td>599</td>\n",
       "    </tr>\n",
       "    <tr>\n",
       "      <th>1</th>\n",
       "      <td>NaN</td>\n",
       "      <td>Japan</td>\n",
       "      <td>36.0000</td>\n",
       "      <td>138.0000</td>\n",
       "      <td>2</td>\n",
       "      <td>1</td>\n",
       "      <td>2</td>\n",
       "      <td>2</td>\n",
       "      <td>4</td>\n",
       "      <td>4</td>\n",
       "      <td>...</td>\n",
       "      <td>701</td>\n",
       "      <td>773</td>\n",
       "      <td>839</td>\n",
       "      <td>825</td>\n",
       "      <td>878</td>\n",
       "      <td>889</td>\n",
       "      <td>924</td>\n",
       "      <td>963</td>\n",
       "      <td>1007</td>\n",
       "      <td>1086</td>\n",
       "    </tr>\n",
       "    <tr>\n",
       "      <th>2</th>\n",
       "      <td>NaN</td>\n",
       "      <td>Singapore</td>\n",
       "      <td>1.2833</td>\n",
       "      <td>103.8333</td>\n",
       "      <td>0</td>\n",
       "      <td>1</td>\n",
       "      <td>3</td>\n",
       "      <td>3</td>\n",
       "      <td>4</td>\n",
       "      <td>5</td>\n",
       "      <td>...</td>\n",
       "      <td>200</td>\n",
       "      <td>212</td>\n",
       "      <td>226</td>\n",
       "      <td>243</td>\n",
       "      <td>266</td>\n",
       "      <td>313</td>\n",
       "      <td>345</td>\n",
       "      <td>385</td>\n",
       "      <td>432</td>\n",
       "      <td>455</td>\n",
       "    </tr>\n",
       "    <tr>\n",
       "      <th>3</th>\n",
       "      <td>NaN</td>\n",
       "      <td>Nepal</td>\n",
       "      <td>28.1667</td>\n",
       "      <td>84.2500</td>\n",
       "      <td>0</td>\n",
       "      <td>0</td>\n",
       "      <td>0</td>\n",
       "      <td>1</td>\n",
       "      <td>1</td>\n",
       "      <td>1</td>\n",
       "      <td>...</td>\n",
       "      <td>1</td>\n",
       "      <td>1</td>\n",
       "      <td>1</td>\n",
       "      <td>1</td>\n",
       "      <td>1</td>\n",
       "      <td>1</td>\n",
       "      <td>1</td>\n",
       "      <td>1</td>\n",
       "      <td>1</td>\n",
       "      <td>2</td>\n",
       "    </tr>\n",
       "    <tr>\n",
       "      <th>4</th>\n",
       "      <td>NaN</td>\n",
       "      <td>Malaysia</td>\n",
       "      <td>2.5000</td>\n",
       "      <td>112.5000</td>\n",
       "      <td>0</td>\n",
       "      <td>0</td>\n",
       "      <td>0</td>\n",
       "      <td>3</td>\n",
       "      <td>4</td>\n",
       "      <td>4</td>\n",
       "      <td>...</td>\n",
       "      <td>197</td>\n",
       "      <td>238</td>\n",
       "      <td>428</td>\n",
       "      <td>566</td>\n",
       "      <td>673</td>\n",
       "      <td>790</td>\n",
       "      <td>900</td>\n",
       "      <td>1030</td>\n",
       "      <td>1183</td>\n",
       "      <td>1306</td>\n",
       "    </tr>\n",
       "  </tbody>\n",
       "</table>\n",
       "<p>5 rows × 65 columns</p>\n",
       "</div>"
      ],
      "text/plain": [
       "  Province/State Country/Region      Lat      Long  2020-01-22 00:00:00  \\\n",
       "0            NaN       Thailand  15.0000  101.0000                    2   \n",
       "1            NaN          Japan  36.0000  138.0000                    2   \n",
       "2            NaN      Singapore   1.2833  103.8333                    0   \n",
       "3            NaN          Nepal  28.1667   84.2500                    0   \n",
       "4            NaN       Malaysia   2.5000  112.5000                    0   \n",
       "\n",
       "   2020-01-23 00:00:00  2020-01-24 00:00:00  2020-01-25 00:00:00  \\\n",
       "0                    3                    5                    7   \n",
       "1                    1                    2                    2   \n",
       "2                    1                    3                    3   \n",
       "3                    0                    0                    1   \n",
       "4                    0                    0                    3   \n",
       "\n",
       "   2020-01-26 00:00:00  2020-01-27 00:00:00  ...  2020-03-13 00:00:00  \\\n",
       "0                    8                    8  ...                   75   \n",
       "1                    4                    4  ...                  701   \n",
       "2                    4                    5  ...                  200   \n",
       "3                    1                    1  ...                    1   \n",
       "4                    4                    4  ...                  197   \n",
       "\n",
       "   2020-03-14 00:00:00  2020-03-15 00:00:00  2020-03-16 00:00:00  \\\n",
       "0                   82                  114                  147   \n",
       "1                  773                  839                  825   \n",
       "2                  212                  226                  243   \n",
       "3                    1                    1                    1   \n",
       "4                  238                  428                  566   \n",
       "\n",
       "   2020-03-17 00:00:00  2020-03-18 00:00:00  2020-03-19 00:00:00  \\\n",
       "0                  177                  212                  272   \n",
       "1                  878                  889                  924   \n",
       "2                  266                  313                  345   \n",
       "3                    1                    1                    1   \n",
       "4                  673                  790                  900   \n",
       "\n",
       "   2020-03-20 00:00:00  2020-03-21 00:00:00  2020-03-22 00:00:00  \n",
       "0                  322                  411                  599  \n",
       "1                  963                 1007                 1086  \n",
       "2                  385                  432                  455  \n",
       "3                    1                    1                    2  \n",
       "4                 1030                 1183                 1306  \n",
       "\n",
       "[5 rows x 65 columns]"
      ]
     },
     "execution_count": 6,
     "metadata": {},
     "output_type": "execute_result"
    },
    {
     "data": {
      "text/html": [
       "<div>\n",
       "<style scoped>\n",
       "    .dataframe tbody tr th:only-of-type {\n",
       "        vertical-align: middle;\n",
       "    }\n",
       "\n",
       "    .dataframe tbody tr th {\n",
       "        vertical-align: top;\n",
       "    }\n",
       "\n",
       "    .dataframe thead th {\n",
       "        text-align: right;\n",
       "    }\n",
       "</style>\n",
       "<table border=\"1\" class=\"dataframe\">\n",
       "  <thead>\n",
       "    <tr style=\"text-align: right;\">\n",
       "      <th></th>\n",
       "      <th>Province/State</th>\n",
       "      <th>Country/Region</th>\n",
       "      <th>Lat</th>\n",
       "      <th>Long</th>\n",
       "      <th>2020-01-22 00:00:00</th>\n",
       "      <th>2020-01-23 00:00:00</th>\n",
       "      <th>2020-01-24 00:00:00</th>\n",
       "      <th>2020-01-25 00:00:00</th>\n",
       "      <th>2020-01-26 00:00:00</th>\n",
       "      <th>2020-01-27 00:00:00</th>\n",
       "      <th>...</th>\n",
       "      <th>2020-03-13 00:00:00</th>\n",
       "      <th>2020-03-14 00:00:00</th>\n",
       "      <th>2020-03-15 00:00:00</th>\n",
       "      <th>2020-03-16 00:00:00</th>\n",
       "      <th>2020-03-17 00:00:00</th>\n",
       "      <th>2020-03-18 00:00:00</th>\n",
       "      <th>2020-03-19 00:00:00</th>\n",
       "      <th>2020-03-20 00:00:00</th>\n",
       "      <th>2020-03-21 00:00:00</th>\n",
       "      <th>2020-03-22 00:00:00</th>\n",
       "    </tr>\n",
       "  </thead>\n",
       "  <tbody>\n",
       "    <tr>\n",
       "      <th>0</th>\n",
       "      <td>NaN</td>\n",
       "      <td>Thailand</td>\n",
       "      <td>15.0000</td>\n",
       "      <td>101.0000</td>\n",
       "      <td>0</td>\n",
       "      <td>0</td>\n",
       "      <td>0</td>\n",
       "      <td>0</td>\n",
       "      <td>0</td>\n",
       "      <td>0</td>\n",
       "      <td>...</td>\n",
       "      <td>1</td>\n",
       "      <td>1</td>\n",
       "      <td>1</td>\n",
       "      <td>1</td>\n",
       "      <td>1</td>\n",
       "      <td>1</td>\n",
       "      <td>1</td>\n",
       "      <td>1</td>\n",
       "      <td>1</td>\n",
       "      <td>1</td>\n",
       "    </tr>\n",
       "    <tr>\n",
       "      <th>1</th>\n",
       "      <td>NaN</td>\n",
       "      <td>Japan</td>\n",
       "      <td>36.0000</td>\n",
       "      <td>138.0000</td>\n",
       "      <td>0</td>\n",
       "      <td>0</td>\n",
       "      <td>0</td>\n",
       "      <td>0</td>\n",
       "      <td>0</td>\n",
       "      <td>0</td>\n",
       "      <td>...</td>\n",
       "      <td>19</td>\n",
       "      <td>22</td>\n",
       "      <td>22</td>\n",
       "      <td>27</td>\n",
       "      <td>29</td>\n",
       "      <td>29</td>\n",
       "      <td>29</td>\n",
       "      <td>33</td>\n",
       "      <td>35</td>\n",
       "      <td>40</td>\n",
       "    </tr>\n",
       "    <tr>\n",
       "      <th>2</th>\n",
       "      <td>NaN</td>\n",
       "      <td>Singapore</td>\n",
       "      <td>1.2833</td>\n",
       "      <td>103.8333</td>\n",
       "      <td>0</td>\n",
       "      <td>0</td>\n",
       "      <td>0</td>\n",
       "      <td>0</td>\n",
       "      <td>0</td>\n",
       "      <td>0</td>\n",
       "      <td>...</td>\n",
       "      <td>0</td>\n",
       "      <td>0</td>\n",
       "      <td>0</td>\n",
       "      <td>0</td>\n",
       "      <td>0</td>\n",
       "      <td>0</td>\n",
       "      <td>0</td>\n",
       "      <td>0</td>\n",
       "      <td>2</td>\n",
       "      <td>2</td>\n",
       "    </tr>\n",
       "    <tr>\n",
       "      <th>3</th>\n",
       "      <td>NaN</td>\n",
       "      <td>Nepal</td>\n",
       "      <td>28.1667</td>\n",
       "      <td>84.2500</td>\n",
       "      <td>0</td>\n",
       "      <td>0</td>\n",
       "      <td>0</td>\n",
       "      <td>0</td>\n",
       "      <td>0</td>\n",
       "      <td>0</td>\n",
       "      <td>...</td>\n",
       "      <td>0</td>\n",
       "      <td>0</td>\n",
       "      <td>0</td>\n",
       "      <td>0</td>\n",
       "      <td>0</td>\n",
       "      <td>0</td>\n",
       "      <td>0</td>\n",
       "      <td>0</td>\n",
       "      <td>0</td>\n",
       "      <td>0</td>\n",
       "    </tr>\n",
       "    <tr>\n",
       "      <th>4</th>\n",
       "      <td>NaN</td>\n",
       "      <td>Malaysia</td>\n",
       "      <td>2.5000</td>\n",
       "      <td>112.5000</td>\n",
       "      <td>0</td>\n",
       "      <td>0</td>\n",
       "      <td>0</td>\n",
       "      <td>0</td>\n",
       "      <td>0</td>\n",
       "      <td>0</td>\n",
       "      <td>...</td>\n",
       "      <td>0</td>\n",
       "      <td>0</td>\n",
       "      <td>0</td>\n",
       "      <td>0</td>\n",
       "      <td>2</td>\n",
       "      <td>2</td>\n",
       "      <td>2</td>\n",
       "      <td>3</td>\n",
       "      <td>4</td>\n",
       "      <td>10</td>\n",
       "    </tr>\n",
       "  </tbody>\n",
       "</table>\n",
       "<p>5 rows × 65 columns</p>\n",
       "</div>"
      ],
      "text/plain": [
       "  Province/State Country/Region      Lat      Long  2020-01-22 00:00:00  \\\n",
       "0            NaN       Thailand  15.0000  101.0000                    0   \n",
       "1            NaN          Japan  36.0000  138.0000                    0   \n",
       "2            NaN      Singapore   1.2833  103.8333                    0   \n",
       "3            NaN          Nepal  28.1667   84.2500                    0   \n",
       "4            NaN       Malaysia   2.5000  112.5000                    0   \n",
       "\n",
       "   2020-01-23 00:00:00  2020-01-24 00:00:00  2020-01-25 00:00:00  \\\n",
       "0                    0                    0                    0   \n",
       "1                    0                    0                    0   \n",
       "2                    0                    0                    0   \n",
       "3                    0                    0                    0   \n",
       "4                    0                    0                    0   \n",
       "\n",
       "   2020-01-26 00:00:00  2020-01-27 00:00:00  ...  2020-03-13 00:00:00  \\\n",
       "0                    0                    0  ...                    1   \n",
       "1                    0                    0  ...                   19   \n",
       "2                    0                    0  ...                    0   \n",
       "3                    0                    0  ...                    0   \n",
       "4                    0                    0  ...                    0   \n",
       "\n",
       "   2020-03-14 00:00:00  2020-03-15 00:00:00  2020-03-16 00:00:00  \\\n",
       "0                    1                    1                    1   \n",
       "1                   22                   22                   27   \n",
       "2                    0                    0                    0   \n",
       "3                    0                    0                    0   \n",
       "4                    0                    0                    0   \n",
       "\n",
       "   2020-03-17 00:00:00  2020-03-18 00:00:00  2020-03-19 00:00:00  \\\n",
       "0                    1                    1                    1   \n",
       "1                   29                   29                   29   \n",
       "2                    0                    0                    0   \n",
       "3                    0                    0                    0   \n",
       "4                    2                    2                    2   \n",
       "\n",
       "   2020-03-20 00:00:00  2020-03-21 00:00:00  2020-03-22 00:00:00  \n",
       "0                    1                    1                    1  \n",
       "1                   33                   35                   40  \n",
       "2                    0                    2                    2  \n",
       "3                    0                    0                    0  \n",
       "4                    3                    4                   10  \n",
       "\n",
       "[5 rows x 65 columns]"
      ]
     },
     "execution_count": 6,
     "metadata": {},
     "output_type": "execute_result"
    }
   ],
   "source": [
    "recuperados.head()\n",
    "confirmados.head()\n",
    "muertos.head()"
   ]
  },
  {
   "cell_type": "markdown",
   "metadata": {},
   "source": [
    "# Base de datos del MINSAL\n",
    "El minsal publica una base datos en pdf..... por supuesto, el standard para sábanas de datos......\n",
    "\n",
    "un colega transforma este pdf en un .csv\n",
    "https://github.com/ivanMSC/COVID19_Chile"
   ]
  },
  {
   "cell_type": "code",
   "execution_count": 53,
   "metadata": {
    "scrolled": true
   },
   "outputs": [
    {
     "name": "stdout",
     "output_type": "stream",
     "text": [
      "Bajando....\n",
      "Bajado!\n"
     ]
    }
   ],
   "source": [
    "# Bajo la BD del Minsal y la guardo en un archivo\n",
    "BD_minsal = 'https://raw.githubusercontent.com/ivanMSC/COVID19_Chile/master/covid19_chile.csv'\n",
    "\n",
    "print (\"Bajando....\")\n",
    "filename, headers = urllib.request.urlretrieve(BD_minsal, filename=\"./BD/BD_minsal.csv\")\n",
    "print ('Bajado!')"
   ]
  },
  {
   "cell_type": "code",
   "execution_count": 54,
   "metadata": {
    "scrolled": false
   },
   "outputs": [
    {
     "data": {
      "text/plain": [
       "0      03-03-2020\n",
       "1      03-03-2020\n",
       "2      04-03-2020\n",
       "3      05-03-2020\n",
       "4      06-03-2020\n",
       "          ...    \n",
       "754    23-03-2020\n",
       "755    23-03-2020\n",
       "756    23-03-2020\n",
       "757    23-03-2020\n",
       "758    23-03-2020\n",
       "Name: Fecha, Length: 759, dtype: object"
      ]
     },
     "execution_count": 54,
     "metadata": {},
     "output_type": "execute_result"
    },
    {
     "data": {
      "text/plain": [
       "0     2020-03-03\n",
       "1     2020-03-03\n",
       "2     2020-03-04\n",
       "3     2020-03-05\n",
       "4     2020-03-06\n",
       "         ...    \n",
       "233   2020-03-18\n",
       "234   2020-03-18\n",
       "235   2020-03-18\n",
       "236   2020-03-18\n",
       "237   2020-03-18\n",
       "Name: Fecha, Length: 238, dtype: datetime64[ns]"
      ]
     },
     "execution_count": 54,
     "metadata": {},
     "output_type": "execute_result"
    }
   ],
   "source": [
    "# Ahora lo importo a este notebook\n",
    "minsal = pd.read_csv('./BD/BD_minsal.csv')\n",
    "# minsal.head()\n",
    "minsal.Fecha\n",
    "minsal.Fecha = pd.to_datetime(minsal.Fecha, format='%d-%m-%Y')\n",
    "# minsal.head()\n",
    "m\n"
   ]
  },
  {
   "cell_type": "markdown",
   "metadata": {},
   "source": [
    "realizo un conteo por region y por país para poder modelar según contagiados por region. luego lo agrego a la base de datos del minsal"
   ]
  },
  {
   "cell_type": "code",
   "execution_count": 60,
   "metadata": {
    "scrolled": false
   },
   "outputs": [
    {
     "data": {
      "text/plain": [
       "Index(['Metropolitana', 'Ñuble', 'Biobío', 'Araucanía', 'Los Lagos', 'Maule',\n",
       "       'Valparaíso', 'Antofagasta', 'O’Higgins', 'Magallanes', 'Coquimbo',\n",
       "       'Los Ríos', 'Arica y Parinacota', 'Atacama', 'Aysén', 'Tarapacá'],\n",
       "      dtype='object')"
      ]
     },
     "execution_count": 60,
     "metadata": {},
     "output_type": "execute_result"
    }
   ],
   "source": [
    "ts1_comuna = minsal.groupby('Comuna').Fecha.first()\n",
    "ts1_region = minsal.groupby('Region').Fecha.first()\n",
    "ts1_chile   = minsal.Fecha.sort_values()[0]\n",
    "\n",
    "minsal.Region.value_counts().index\n",
    "\n",
    "# conteo por region\n",
    "for reg in minsal.Region.value_counts().index:\n",
    "#     print(reg)\n",
    "    conteo_region = minsal.loc[minsal.Region==reg].Fecha - ts1_region[reg]\n",
    "    conteo_pais   = minsal.loc[minsal.Region==reg].Fecha - ts1_chile\n",
    "    minsal.loc[minsal.index.isin(conteo_region.index), 'Conteo Region'] = conteo_region\n",
    "    minsal.loc[minsal.index.isin(conteo_pais.index), 'Conteo Pais'] = conteo_pais\n",
    "\n",
    "# minsal.loc[minsal.Comuna==comun].Fecha\n",
    "# ts1_comuna[comun]\n",
    "# minsal.Comuna.unique()\n",
    "\n",
    "#conteo por comuna\n",
    "for comun in minsal.Comuna.value_counts().index:\n",
    "#     print(comun)\n",
    "    conteo_comuna = minsal.loc[minsal.Comuna==comun].Fecha - ts1_comuna[comun]\n",
    "    minsal.loc[minsal.index.isin(conteo_comuna.index), 'Conteo Comuna'] = conteo_comuna\n"
   ]
  },
  {
   "cell_type": "code",
   "execution_count": 73,
   "metadata": {
    "scrolled": true
   },
   "outputs": [
    {
     "data": {
      "text/html": [
       "<div>\n",
       "<style scoped>\n",
       "    .dataframe tbody tr th:only-of-type {\n",
       "        vertical-align: middle;\n",
       "    }\n",
       "\n",
       "    .dataframe tbody tr th {\n",
       "        vertical-align: top;\n",
       "    }\n",
       "\n",
       "    .dataframe thead th {\n",
       "        text-align: right;\n",
       "    }\n",
       "</style>\n",
       "<table border=\"1\" class=\"dataframe\">\n",
       "  <thead>\n",
       "    <tr style=\"text-align: right;\">\n",
       "      <th></th>\n",
       "      <th>ID</th>\n",
       "      <th>Fecha</th>\n",
       "      <th>Region_Numero</th>\n",
       "      <th>Region</th>\n",
       "      <th>Sexo</th>\n",
       "      <th>Edad</th>\n",
       "      <th>Centro_de_Salud</th>\n",
       "      <th>Comuna</th>\n",
       "      <th>lat</th>\n",
       "      <th>lon</th>\n",
       "      <th>Tipo_de_caso</th>\n",
       "      <th>lat_comuna</th>\n",
       "      <th>lon_comuna</th>\n",
       "      <th>Conteo Region</th>\n",
       "      <th>Conteo Pais</th>\n",
       "      <th>Conteo Comuna</th>\n",
       "    </tr>\n",
       "  </thead>\n",
       "  <tbody>\n",
       "    <tr>\n",
       "      <th>0</th>\n",
       "      <td>1</td>\n",
       "      <td>2020-03-03</td>\n",
       "      <td>9.0</td>\n",
       "      <td>Maule</td>\n",
       "      <td>Masculino</td>\n",
       "      <td>33.0</td>\n",
       "      <td>Hospital de Talca</td>\n",
       "      <td>Talca</td>\n",
       "      <td>-35.427058</td>\n",
       "      <td>-71.646186</td>\n",
       "      <td>Confirmado</td>\n",
       "      <td>-35.423</td>\n",
       "      <td>-71.657</td>\n",
       "      <td>0 days</td>\n",
       "      <td>0 days</td>\n",
       "      <td>0 days</td>\n",
       "    </tr>\n",
       "  </tbody>\n",
       "</table>\n",
       "</div>"
      ],
      "text/plain": [
       "   ID      Fecha  Region_Numero Region       Sexo  Edad    Centro_de_Salud  \\\n",
       "0   1 2020-03-03            9.0  Maule  Masculino  33.0  Hospital de Talca   \n",
       "\n",
       "  Comuna        lat        lon Tipo_de_caso  lat_comuna  lon_comuna  \\\n",
       "0  Talca -35.427058 -71.646186   Confirmado     -35.423     -71.657   \n",
       "\n",
       "  Conteo Region Conteo Pais Conteo Comuna  \n",
       "0        0 days      0 days        0 days  "
      ]
     },
     "execution_count": 73,
     "metadata": {},
     "output_type": "execute_result"
    }
   ],
   "source": [
    "minsal.head(1)"
   ]
  },
  {
   "cell_type": "markdown",
   "metadata": {},
   "source": [
    "## Variables constante"
   ]
  },
  {
   "cell_type": "code",
   "execution_count": null,
   "metadata": {},
   "outputs": [],
   "source": [
    "fechas = pd.to_datetime(confirmados.columns[4:])\n",
    "paises_LA = list(['Argentina', 'Chile', 'Peru', 'Venezuela',\n",
    "                  'Brazil', 'Mexico', 'Ecuador', 'Colombia',\n",
    "                  'Bolivia', 'Cuba', 'Uruguay', 'Guatemala',\n",
    "                  ])\n",
    "paises_LA\n",
    "# confirmados['Country/Region'].unique()\n"
   ]
  },
  {
   "cell_type": "markdown",
   "metadata": {},
   "source": [
    "# Cantidad de Casos en países de interes"
   ]
  },
  {
   "cell_type": "markdown",
   "metadata": {},
   "source": [
    "## Chile"
   ]
  },
  {
   "cell_type": "code",
   "execution_count": 61,
   "metadata": {},
   "outputs": [],
   "source": [
    "paises = list(['Chile'\n",
    "                  ])\n"
   ]
  },
  {
   "cell_type": "code",
   "execution_count": null,
   "metadata": {},
   "outputs": [],
   "source": []
  },
  {
   "cell_type": "code",
   "execution_count": 62,
   "metadata": {
    "scrolled": false
   },
   "outputs": [
    {
     "data": {
      "text/plain": [
       "<matplotlib.axes._subplots.AxesSubplot at 0x7f4788f5b810>"
      ]
     },
     "execution_count": 62,
     "metadata": {},
     "output_type": "execute_result"
    },
    {
     "data": {
      "text/plain": [
       "<matplotlib.legend.Legend at 0x7f4788ee6bd0>"
      ]
     },
     "execution_count": 62,
     "metadata": {},
     "output_type": "execute_result"
    },
    {
     "data": {
      "text/plain": [
       "Text(0.5, 1.0, 'Casos confirmados Coronavirus-19')"
      ]
     },
     "execution_count": 62,
     "metadata": {},
     "output_type": "execute_result"
    },
    {
     "data": {
      "text/plain": [
       "Text(0.5, 0, 'Fecha')"
      ]
     },
     "execution_count": 62,
     "metadata": {},
     "output_type": "execute_result"
    },
    {
     "data": {
      "text/plain": [
       "Text(0, 0.5, 'Cantidad de casos')"
      ]
     },
     "execution_count": 62,
     "metadata": {},
     "output_type": "execute_result"
    },
    {
     "data": {
      "text/plain": [
       "Text(2020-02-27 00:00:00, 1, 'Dr Egidio Céspedes \\nSAMU Viña del Mar')"
      ]
     },
     "execution_count": 62,
     "metadata": {},
     "output_type": "execute_result"
    },
    {
     "data": {
      "text/plain": [
       "(737482.0, 737507.791304179)"
      ]
     },
     "execution_count": 62,
     "metadata": {},
     "output_type": "execute_result"
    },
    {
     "data": {
      "text/plain": [
       "Text(0, 0.5, 'Cantidad de casos en log')"
      ]
     },
     "execution_count": 62,
     "metadata": {},
     "output_type": "execute_result"
    },
    {
     "data": {
      "image/png": "[encoded data removed]",
      "text/plain": [
       "<Figure size 432x504 with 1 Axes>"
      ]
     },
     "metadata": {
      "needs_background": "light"
     },
     "output_type": "display_data"
    }
   ],
   "source": [
    "PAIS_Interes = confirmados.loc[\n",
    "    confirmados['Country/Region'].isin(paises)].set_index('Country/Region')[fechas].T.copy()\n",
    "\n",
    "dumm = PAIS_Interes\n",
    "\n",
    "# fecha de interés\n",
    "f_fin = dt.datetime.now()\n",
    "f_inicio = dt.datetime(2020,2,27)\n",
    "\n",
    "\n",
    "# Formato\n",
    "dumm.plot(figsize=(6,7))\n",
    "plt.legend(loc='upper left')\n",
    "plt.title('Casos confirmados Coronavirus-19')\n",
    "plt.xlabel('Fecha')\n",
    "plt.ylabel('Cantidad de casos')\n",
    "plt.text(f_inicio, 1, 'Dr Egidio Céspedes \\nSAMU Viña del Mar',\n",
    "         fontsize=10,color='gray', alpha=0.5)\n",
    "\n",
    "plt.xlim(f_inicio, f_fin)\n",
    "\n",
    "\n",
    "# escala logaritmica\n",
    "plt.yscale('log')\n",
    "plt.ylabel('Cantidad de casos en log')"
   ]
  },
  {
   "cell_type": "markdown",
   "metadata": {},
   "source": [
    "## Vecinos"
   ]
  },
  {
   "cell_type": "code",
   "execution_count": 63,
   "metadata": {},
   "outputs": [],
   "source": [
    "paises = list(['Argentina', 'Chile', 'Peru', 'Venezuela',\n",
    "                  'Ecuador', 'Colombia', 'Brazil', 'Paraguay'\n",
    "                  'Bolivia', 'Uruguay', 'Bolivia', 'Colombia'\n",
    "                  ])"
   ]
  },
  {
   "cell_type": "code",
   "execution_count": 64,
   "metadata": {
    "scrolled": false
   },
   "outputs": [
    {
     "data": {
      "text/plain": [
       "<matplotlib.axes._subplots.AxesSubplot at 0x7f478912a890>"
      ]
     },
     "execution_count": 64,
     "metadata": {},
     "output_type": "execute_result"
    },
    {
     "data": {
      "text/plain": [
       "<matplotlib.legend.Legend at 0x7f478911cf50>"
      ]
     },
     "execution_count": 64,
     "metadata": {},
     "output_type": "execute_result"
    },
    {
     "data": {
      "text/plain": [
       "Text(0.5, 1.0, 'Casos confirmados Coronavirus-19')"
      ]
     },
     "execution_count": 64,
     "metadata": {},
     "output_type": "execute_result"
    },
    {
     "data": {
      "text/plain": [
       "Text(0.5, 0, 'Fecha')"
      ]
     },
     "execution_count": 64,
     "metadata": {},
     "output_type": "execute_result"
    },
    {
     "data": {
      "text/plain": [
       "Text(0, 0.5, 'Cantidad de casos')"
      ]
     },
     "execution_count": 64,
     "metadata": {},
     "output_type": "execute_result"
    },
    {
     "data": {
      "text/plain": [
       "Text(2020-02-27 00:00:00, 1, 'Dr Egidio Céspedes \\nSAMU Viña del Mar')"
      ]
     },
     "execution_count": 64,
     "metadata": {},
     "output_type": "execute_result"
    },
    {
     "data": {
      "text/plain": [
       "(737482.0, 737507.7913141178)"
      ]
     },
     "execution_count": 64,
     "metadata": {},
     "output_type": "execute_result"
    },
    {
     "data": {
      "text/plain": [
       "Text(0, 0.5, 'Cantidad de casos en log')"
      ]
     },
     "execution_count": 64,
     "metadata": {},
     "output_type": "execute_result"
    },
    {
     "data": {
      "image/png": "[encoded data removed]",
      "text/plain": [
       "<Figure size 432x504 with 1 Axes>"
      ]
     },
     "metadata": {
      "needs_background": "light"
     },
     "output_type": "display_data"
    }
   ],
   "source": [
    "PAIS_Interes = confirmados.loc[\n",
    "    confirmados['Country/Region'].isin(paises)].set_index('Country/Region')[fechas].T.copy()\n",
    "\n",
    "dumm = PAIS_Interes\n",
    "\n",
    "# Formato\n",
    "dumm.plot(figsize=(6,7))\n",
    "plt.legend(loc='upper left')\n",
    "plt.title('Casos confirmados Coronavirus-19')\n",
    "plt.xlabel('Fecha')\n",
    "plt.ylabel('Cantidad de casos')\n",
    "plt.text(f_inicio, 1, 'Dr Egidio Céspedes \\nSAMU Viña del Mar',\n",
    "         fontsize=10,color='gray', alpha=0.5)\n",
    "\n",
    "# fecha de interés\n",
    "f_fin = dt.datetime.now()\n",
    "f_inicio = dt.datetime(2020,2,27)\n",
    "plt.xlim(f_inicio, f_fin)\n",
    "\n",
    "\n",
    "# escala logaritmica\n",
    "plt.yscale('log')\n",
    "plt.ylabel('Cantidad de casos en log')"
   ]
  },
  {
   "cell_type": "markdown",
   "metadata": {},
   "source": [
    "## America"
   ]
  },
  {
   "cell_type": "code",
   "execution_count": 65,
   "metadata": {},
   "outputs": [],
   "source": [
    "paises_LA = list(['Argentina', 'Chile', 'Peru', 'Venezuela',\n",
    "                  'Brazil', 'Mexico', 'Ecuador', 'Colombia',\n",
    "                  'Bolivia', 'Cuba', 'Uruguay', 'Guatemala',\n",
    "                  ])\n",
    "paises = paises_LA"
   ]
  },
  {
   "cell_type": "code",
   "execution_count": 66,
   "metadata": {
    "scrolled": false
   },
   "outputs": [
    {
     "data": {
      "text/plain": [
       "<matplotlib.axes._subplots.AxesSubplot at 0x7f4788d192d0>"
      ]
     },
     "execution_count": 66,
     "metadata": {},
     "output_type": "execute_result"
    },
    {
     "data": {
      "text/plain": [
       "<matplotlib.legend.Legend at 0x7f4788d31c50>"
      ]
     },
     "execution_count": 66,
     "metadata": {},
     "output_type": "execute_result"
    },
    {
     "data": {
      "text/plain": [
       "Text(0.5, 1.0, 'Casos confirmados Coronavirus-19')"
      ]
     },
     "execution_count": 66,
     "metadata": {},
     "output_type": "execute_result"
    },
    {
     "data": {
      "text/plain": [
       "Text(0.5, 0, 'Fecha')"
      ]
     },
     "execution_count": 66,
     "metadata": {},
     "output_type": "execute_result"
    },
    {
     "data": {
      "text/plain": [
       "Text(0, 0.5, 'Cantidad de casos')"
      ]
     },
     "execution_count": 66,
     "metadata": {},
     "output_type": "execute_result"
    },
    {
     "data": {
      "text/plain": [
       "Text(2020-02-27 00:00:00, 1, 'Dr Egidio Céspedes \\nSAMU Viña del Mar')"
      ]
     },
     "execution_count": 66,
     "metadata": {},
     "output_type": "execute_result"
    },
    {
     "data": {
      "text/plain": [
       "(737482.0, 737507.7913225435)"
      ]
     },
     "execution_count": 66,
     "metadata": {},
     "output_type": "execute_result"
    },
    {
     "data": {
      "text/plain": [
       "Text(0, 0.5, 'Cantidad de casos en log')"
      ]
     },
     "execution_count": 66,
     "metadata": {},
     "output_type": "execute_result"
    },
    {
     "data": {
      "image/png": "[encoded data removed]",
      "text/plain": [
       "<Figure size 432x504 with 1 Axes>"
      ]
     },
     "metadata": {
      "needs_background": "light"
     },
     "output_type": "display_data"
    }
   ],
   "source": [
    "PAIS_Interes = confirmados.loc[\n",
    "    confirmados['Country/Region'].isin(paises)].set_index('Country/Region')[fechas].T.copy()\n",
    "\n",
    "dumm = PAIS_Interes\n",
    "\n",
    "# Formato\n",
    "dumm.plot(figsize=(6,7))\n",
    "plt.legend(loc='upper left')\n",
    "plt.title('Casos confirmados Coronavirus-19')\n",
    "plt.xlabel('Fecha')\n",
    "plt.ylabel('Cantidad de casos')\n",
    "plt.text(f_inicio, 1, 'Dr Egidio Céspedes \\nSAMU Viña del Mar',\n",
    "         fontsize=10,color='gray', alpha=0.5)\n",
    "\n",
    "# fecha de interés\n",
    "f_fin = dt.datetime.now()\n",
    "f_inicio = dt.datetime(2020,2,27)\n",
    "plt.xlim(f_inicio, f_fin)\n",
    "\n",
    "\n",
    "# escala logaritmica\n",
    "plt.yscale('log')\n",
    "plt.ylabel('Cantidad de casos en log')"
   ]
  },
  {
   "cell_type": "markdown",
   "metadata": {},
   "source": [
    "## Paises de interés"
   ]
  },
  {
   "cell_type": "code",
   "execution_count": 67,
   "metadata": {
    "scrolled": true
   },
   "outputs": [],
   "source": [
    "paises = list(['Spain', 'Italy', 'Chile', 'Korea, South',\n",
    "                       'Peru', 'Argentina', 'Germany', 'Brazil'\n",
    "                      ])\n",
    "db = confirmados.groupby('Country/Region')[fechas].sum().T"
   ]
  },
  {
   "cell_type": "code",
   "execution_count": 68,
   "metadata": {
    "scrolled": false
   },
   "outputs": [
    {
     "data": {
      "text/plain": [
       "<matplotlib.axes._subplots.AxesSubplot at 0x7f4788b28c10>"
      ]
     },
     "execution_count": 68,
     "metadata": {},
     "output_type": "execute_result"
    },
    {
     "data": {
      "text/plain": [
       "<matplotlib.legend.Legend at 0x7f4788f37e90>"
      ]
     },
     "execution_count": 68,
     "metadata": {},
     "output_type": "execute_result"
    },
    {
     "data": {
      "text/plain": [
       "Text(0.5, 1.0, 'Casos confirmados Coronavirus-19')"
      ]
     },
     "execution_count": 68,
     "metadata": {},
     "output_type": "execute_result"
    },
    {
     "data": {
      "text/plain": [
       "Text(0.5, 0, 'Fecha')"
      ]
     },
     "execution_count": 68,
     "metadata": {},
     "output_type": "execute_result"
    },
    {
     "data": {
      "text/plain": [
       "Text(0, 0.5, 'Cantidad de casos')"
      ]
     },
     "execution_count": 68,
     "metadata": {},
     "output_type": "execute_result"
    },
    {
     "data": {
      "text/plain": [
       "Text(2020-02-27 00:00:00, 1, 'Dr Egidio Céspedes \\nSAMU Viña del Mar')"
      ]
     },
     "execution_count": 68,
     "metadata": {},
     "output_type": "execute_result"
    },
    {
     "data": {
      "text/plain": [
       "(737482.0, 737507.7913315155)"
      ]
     },
     "execution_count": 68,
     "metadata": {},
     "output_type": "execute_result"
    },
    {
     "data": {
      "text/plain": [
       "Text(0, 0.5, 'Cantidad de casos en log')"
      ]
     },
     "execution_count": 68,
     "metadata": {},
     "output_type": "execute_result"
    },
    {
     "data": {
      "image/png": "[encoded data removed]",
      "text/plain": [
       "<Figure size 432x504 with 1 Axes>"
      ]
     },
     "metadata": {
      "needs_background": "light"
     },
     "output_type": "display_data"
    }
   ],
   "source": [
    "PAIS_Interes = confirmados.loc[\n",
    "    confirmados['Country/Region'].isin(paises)].set_index('Country/Region')[fechas].T.copy()\n",
    "dumm = PAIS_Interes\n",
    "\n",
    "# Formato\n",
    "dumm.plot(figsize=(6,7))\n",
    "plt.legend(loc='upper left')\n",
    "plt.title('Casos confirmados Coronavirus-19')\n",
    "plt.xlabel('Fecha')\n",
    "plt.ylabel('Cantidad de casos')\n",
    "plt.text(f_inicio, 1, 'Dr Egidio Céspedes \\nSAMU Viña del Mar',\n",
    "         fontsize=10,color='gray', alpha=0.5)\n",
    "\n",
    "# fecha de interés\n",
    "f_fin = dt.datetime.now()\n",
    "f_inicio = dt.datetime(2020,2,27)\n",
    "plt.xlim(f_inicio, f_fin)\n",
    "\n",
    "\n",
    "# escala logaritmica\n",
    "plt.yscale('log')\n",
    "plt.ylabel('Cantidad de casos en log')"
   ]
  },
  {
   "cell_type": "code",
   "execution_count": 69,
   "metadata": {
    "scrolled": true
   },
   "outputs": [
    {
     "data": {
      "text/html": [
       "<div>\n",
       "<style scoped>\n",
       "    .dataframe tbody tr th:only-of-type {\n",
       "        vertical-align: middle;\n",
       "    }\n",
       "\n",
       "    .dataframe tbody tr th {\n",
       "        vertical-align: top;\n",
       "    }\n",
       "\n",
       "    .dataframe thead th {\n",
       "        text-align: right;\n",
       "    }\n",
       "</style>\n",
       "<table border=\"1\" class=\"dataframe\">\n",
       "  <thead>\n",
       "    <tr style=\"text-align: right;\">\n",
       "      <th></th>\n",
       "      <th>2020-01-22</th>\n",
       "      <th>2020-01-23</th>\n",
       "      <th>2020-01-24</th>\n",
       "      <th>2020-01-25</th>\n",
       "      <th>2020-01-26</th>\n",
       "      <th>2020-01-27</th>\n",
       "      <th>2020-01-28</th>\n",
       "      <th>2020-01-29</th>\n",
       "      <th>2020-01-30</th>\n",
       "      <th>2020-01-31</th>\n",
       "      <th>...</th>\n",
       "      <th>2020-03-13</th>\n",
       "      <th>2020-03-14</th>\n",
       "      <th>2020-03-15</th>\n",
       "      <th>2020-03-16</th>\n",
       "      <th>2020-03-17</th>\n",
       "      <th>2020-03-18</th>\n",
       "      <th>2020-03-19</th>\n",
       "      <th>2020-03-20</th>\n",
       "      <th>2020-03-21</th>\n",
       "      <th>2020-03-22</th>\n",
       "    </tr>\n",
       "    <tr>\n",
       "      <th>Country/Region</th>\n",
       "      <th></th>\n",
       "      <th></th>\n",
       "      <th></th>\n",
       "      <th></th>\n",
       "      <th></th>\n",
       "      <th></th>\n",
       "      <th></th>\n",
       "      <th></th>\n",
       "      <th></th>\n",
       "      <th></th>\n",
       "      <th></th>\n",
       "      <th></th>\n",
       "      <th></th>\n",
       "      <th></th>\n",
       "      <th></th>\n",
       "      <th></th>\n",
       "      <th></th>\n",
       "      <th></th>\n",
       "      <th></th>\n",
       "      <th></th>\n",
       "      <th></th>\n",
       "    </tr>\n",
       "  </thead>\n",
       "  <tbody>\n",
       "    <tr>\n",
       "      <th>Afghanistan</th>\n",
       "      <td>0</td>\n",
       "      <td>0</td>\n",
       "      <td>0</td>\n",
       "      <td>0</td>\n",
       "      <td>0</td>\n",
       "      <td>0</td>\n",
       "      <td>0</td>\n",
       "      <td>0</td>\n",
       "      <td>0</td>\n",
       "      <td>0</td>\n",
       "      <td>...</td>\n",
       "      <td>7</td>\n",
       "      <td>11</td>\n",
       "      <td>16</td>\n",
       "      <td>21</td>\n",
       "      <td>22</td>\n",
       "      <td>22</td>\n",
       "      <td>22</td>\n",
       "      <td>24</td>\n",
       "      <td>24</td>\n",
       "      <td>40</td>\n",
       "    </tr>\n",
       "    <tr>\n",
       "      <th>Albania</th>\n",
       "      <td>0</td>\n",
       "      <td>0</td>\n",
       "      <td>0</td>\n",
       "      <td>0</td>\n",
       "      <td>0</td>\n",
       "      <td>0</td>\n",
       "      <td>0</td>\n",
       "      <td>0</td>\n",
       "      <td>0</td>\n",
       "      <td>0</td>\n",
       "      <td>...</td>\n",
       "      <td>33</td>\n",
       "      <td>38</td>\n",
       "      <td>42</td>\n",
       "      <td>51</td>\n",
       "      <td>55</td>\n",
       "      <td>59</td>\n",
       "      <td>64</td>\n",
       "      <td>70</td>\n",
       "      <td>76</td>\n",
       "      <td>89</td>\n",
       "    </tr>\n",
       "    <tr>\n",
       "      <th>Algeria</th>\n",
       "      <td>0</td>\n",
       "      <td>0</td>\n",
       "      <td>0</td>\n",
       "      <td>0</td>\n",
       "      <td>0</td>\n",
       "      <td>0</td>\n",
       "      <td>0</td>\n",
       "      <td>0</td>\n",
       "      <td>0</td>\n",
       "      <td>0</td>\n",
       "      <td>...</td>\n",
       "      <td>26</td>\n",
       "      <td>37</td>\n",
       "      <td>48</td>\n",
       "      <td>54</td>\n",
       "      <td>60</td>\n",
       "      <td>74</td>\n",
       "      <td>87</td>\n",
       "      <td>90</td>\n",
       "      <td>139</td>\n",
       "      <td>201</td>\n",
       "    </tr>\n",
       "    <tr>\n",
       "      <th>Andorra</th>\n",
       "      <td>0</td>\n",
       "      <td>0</td>\n",
       "      <td>0</td>\n",
       "      <td>0</td>\n",
       "      <td>0</td>\n",
       "      <td>0</td>\n",
       "      <td>0</td>\n",
       "      <td>0</td>\n",
       "      <td>0</td>\n",
       "      <td>0</td>\n",
       "      <td>...</td>\n",
       "      <td>1</td>\n",
       "      <td>1</td>\n",
       "      <td>1</td>\n",
       "      <td>2</td>\n",
       "      <td>39</td>\n",
       "      <td>39</td>\n",
       "      <td>53</td>\n",
       "      <td>75</td>\n",
       "      <td>88</td>\n",
       "      <td>113</td>\n",
       "    </tr>\n",
       "    <tr>\n",
       "      <th>Angola</th>\n",
       "      <td>0</td>\n",
       "      <td>0</td>\n",
       "      <td>0</td>\n",
       "      <td>0</td>\n",
       "      <td>0</td>\n",
       "      <td>0</td>\n",
       "      <td>0</td>\n",
       "      <td>0</td>\n",
       "      <td>0</td>\n",
       "      <td>0</td>\n",
       "      <td>...</td>\n",
       "      <td>0</td>\n",
       "      <td>0</td>\n",
       "      <td>0</td>\n",
       "      <td>0</td>\n",
       "      <td>0</td>\n",
       "      <td>0</td>\n",
       "      <td>0</td>\n",
       "      <td>1</td>\n",
       "      <td>2</td>\n",
       "      <td>2</td>\n",
       "    </tr>\n",
       "  </tbody>\n",
       "</table>\n",
       "<p>5 rows × 61 columns</p>\n",
       "</div>"
      ],
      "text/plain": [
       "                2020-01-22  2020-01-23  2020-01-24  2020-01-25  2020-01-26  \\\n",
       "Country/Region                                                               \n",
       "Afghanistan              0           0           0           0           0   \n",
       "Albania                  0           0           0           0           0   \n",
       "Algeria                  0           0           0           0           0   \n",
       "Andorra                  0           0           0           0           0   \n",
       "Angola                   0           0           0           0           0   \n",
       "\n",
       "                2020-01-27  2020-01-28  2020-01-29  2020-01-30  2020-01-31  \\\n",
       "Country/Region                                                               \n",
       "Afghanistan              0           0           0           0           0   \n",
       "Albania                  0           0           0           0           0   \n",
       "Algeria                  0           0           0           0           0   \n",
       "Andorra                  0           0           0           0           0   \n",
       "Angola                   0           0           0           0           0   \n",
       "\n",
       "                ...  2020-03-13  2020-03-14  2020-03-15  2020-03-16  \\\n",
       "Country/Region  ...                                                   \n",
       "Afghanistan     ...           7          11          16          21   \n",
       "Albania         ...          33          38          42          51   \n",
       "Algeria         ...          26          37          48          54   \n",
       "Andorra         ...           1           1           1           2   \n",
       "Angola          ...           0           0           0           0   \n",
       "\n",
       "                2020-03-17  2020-03-18  2020-03-19  2020-03-20  2020-03-21  \\\n",
       "Country/Region                                                               \n",
       "Afghanistan             22          22          22          24          24   \n",
       "Albania                 55          59          64          70          76   \n",
       "Algeria                 60          74          87          90         139   \n",
       "Andorra                 39          39          53          75          88   \n",
       "Angola                   0           0           0           1           2   \n",
       "\n",
       "                2020-03-22  \n",
       "Country/Region              \n",
       "Afghanistan             40  \n",
       "Albania                 89  \n",
       "Algeria                201  \n",
       "Andorra                113  \n",
       "Angola                   2  \n",
       "\n",
       "[5 rows x 61 columns]"
      ]
     },
     "execution_count": 69,
     "metadata": {},
     "output_type": "execute_result"
    }
   ],
   "source": [
    "# confirmados\n",
    "confirmados.groupby('Country/Region').sum()[fechas].head()"
   ]
  },
  {
   "cell_type": "markdown",
   "metadata": {},
   "source": [
    "# Como se esparce el virus en chile"
   ]
  },
  {
   "cell_type": "code",
   "execution_count": 70,
   "metadata": {
    "scrolled": true
   },
   "outputs": [
    {
     "data": {
      "text/plain": [
       "Vitacura            54\n",
       "Las Condes          42\n",
       "Providencia         33\n",
       "Chillán             26\n",
       "Santiago             8\n",
       "Talca                8\n",
       "Estación Central     6\n",
       "Recoleta             4\n",
       "La Florida           3\n",
       "Calama               2\n",
       "Punta Arenas         2\n",
       "Concepción           2\n",
       "Curicó               1\n",
       "Viña del Mar         1\n",
       "Valdivia             1\n",
       "Maipú                1\n",
       "Talcahuano           1\n",
       "Ñuñoa                1\n",
       "Puerto Montt         1\n",
       "Renca                1\n",
       "Coyhaique            1\n",
       "Temuco               1\n",
       "Los Ángeles          1\n",
       "San Miguel           1\n",
       "Copiapó              1\n",
       "Name: Comuna, dtype: int64"
      ]
     },
     "execution_count": 70,
     "metadata": {},
     "output_type": "execute_result"
    }
   ],
   "source": [
    "minsal.Comuna.value_counts()"
   ]
  },
  {
   "cell_type": "markdown",
   "metadata": {},
   "source": [
    "hago un plot según riesgos de nelson Aalen para visualizar comportamiento"
   ]
  },
  {
   "cell_type": "code",
   "execution_count": 72,
   "metadata": {
    "scrolled": false
   },
   "outputs": [
    {
     "data": {
      "text/plain": [
       "Metropolitana         461\n",
       "Ñuble                  81\n",
       "Biobío                 46\n",
       "Araucanía              40\n",
       "Los Lagos              33\n",
       "Maule                  28\n",
       "Valparaíso             19\n",
       "Antofagasta            11\n",
       "O’Higgins               8\n",
       "Magallanes              6\n",
       "Coquimbo                6\n",
       "Los Ríos                4\n",
       "Arica y Parinacota      2\n",
       "Atacama                 1\n",
       "Aysén                   1\n",
       "Tarapacá                1\n",
       "Name: Region, dtype: int64"
      ]
     },
     "execution_count": 72,
     "metadata": {},
     "output_type": "execute_result"
    },
    {
     "data": {
      "text/plain": [
       "<lifelines.NelsonAalenFitter:\"Maule\", fitted with 28 total observations, 0 right-censored observations>"
      ]
     },
     "execution_count": 72,
     "metadata": {},
     "output_type": "execute_result"
    },
    {
     "data": {
      "text/plain": [
       "<matplotlib.axes._subplots.AxesSubplot at 0x7f478885c450>"
      ]
     },
     "execution_count": 72,
     "metadata": {},
     "output_type": "execute_result"
    },
    {
     "data": {
      "text/plain": [
       "<matplotlib.legend.Legend at 0x7f478885c190>"
      ]
     },
     "execution_count": 72,
     "metadata": {},
     "output_type": "execute_result"
    },
    {
     "data": {
      "text/plain": [
       "Text(0.5, 1.0, 'Casos confirmados Coronavirus-19')"
      ]
     },
     "execution_count": 72,
     "metadata": {},
     "output_type": "execute_result"
    },
    {
     "data": {
      "text/plain": [
       "Text(0.5, 0, 'Días aparicion primer caso regional')"
      ]
     },
     "execution_count": 72,
     "metadata": {},
     "output_type": "execute_result"
    },
    {
     "data": {
      "text/plain": [
       "Text(0, 0.5, 'Cantidad de casos')"
      ]
     },
     "execution_count": 72,
     "metadata": {},
     "output_type": "execute_result"
    },
    {
     "data": {
      "text/plain": [
       "Text(0, 3, 'Dr Egidio Céspedes \\nSAMU Viña del Mar')"
      ]
     },
     "execution_count": 72,
     "metadata": {},
     "output_type": "execute_result"
    },
    {
     "data": {
      "text/plain": [
       "<lifelines.NelsonAalenFitter:\"Metropolitana\", fitted with 461 total observations, 0 right-censored observations>"
      ]
     },
     "execution_count": 72,
     "metadata": {},
     "output_type": "execute_result"
    },
    {
     "data": {
      "text/plain": [
       "<matplotlib.axes._subplots.AxesSubplot at 0x7f478885c450>"
      ]
     },
     "execution_count": 72,
     "metadata": {},
     "output_type": "execute_result"
    },
    {
     "data": {
      "text/plain": [
       "<matplotlib.legend.Legend at 0x7f47888ce610>"
      ]
     },
     "execution_count": 72,
     "metadata": {},
     "output_type": "execute_result"
    },
    {
     "data": {
      "text/plain": [
       "Text(0.5, 1.0, 'Casos confirmados Coronavirus-19')"
      ]
     },
     "execution_count": 72,
     "metadata": {},
     "output_type": "execute_result"
    },
    {
     "data": {
      "text/plain": [
       "Text(0.5, 0, 'Días aparicion primer caso regional')"
      ]
     },
     "execution_count": 72,
     "metadata": {},
     "output_type": "execute_result"
    },
    {
     "data": {
      "text/plain": [
       "Text(0, 0.5, 'Cantidad de casos')"
      ]
     },
     "execution_count": 72,
     "metadata": {},
     "output_type": "execute_result"
    },
    {
     "data": {
      "text/plain": [
       "Text(0, 3, 'Dr Egidio Céspedes \\nSAMU Viña del Mar')"
      ]
     },
     "execution_count": 72,
     "metadata": {},
     "output_type": "execute_result"
    },
    {
     "data": {
      "text/plain": [
       "<lifelines.NelsonAalenFitter:\"Ñuble\", fitted with 81 total observations, 0 right-censored observations>"
      ]
     },
     "execution_count": 72,
     "metadata": {},
     "output_type": "execute_result"
    },
    {
     "data": {
      "text/plain": [
       "<matplotlib.axes._subplots.AxesSubplot at 0x7f478885c450>"
      ]
     },
     "execution_count": 72,
     "metadata": {},
     "output_type": "execute_result"
    },
    {
     "data": {
      "text/plain": [
       "<matplotlib.legend.Legend at 0x7f478883ce10>"
      ]
     },
     "execution_count": 72,
     "metadata": {},
     "output_type": "execute_result"
    },
    {
     "data": {
      "text/plain": [
       "Text(0.5, 1.0, 'Casos confirmados Coronavirus-19')"
      ]
     },
     "execution_count": 72,
     "metadata": {},
     "output_type": "execute_result"
    },
    {
     "data": {
      "text/plain": [
       "Text(0.5, 0, 'Días aparicion primer caso regional')"
      ]
     },
     "execution_count": 72,
     "metadata": {},
     "output_type": "execute_result"
    },
    {
     "data": {
      "text/plain": [
       "Text(0, 0.5, 'Cantidad de casos')"
      ]
     },
     "execution_count": 72,
     "metadata": {},
     "output_type": "execute_result"
    },
    {
     "data": {
      "text/plain": [
       "Text(0, 3, 'Dr Egidio Céspedes \\nSAMU Viña del Mar')"
      ]
     },
     "execution_count": 72,
     "metadata": {},
     "output_type": "execute_result"
    },
    {
     "data": {
      "text/plain": [
       "<lifelines.NelsonAalenFitter:\"Biobío\", fitted with 46 total observations, 0 right-censored observations>"
      ]
     },
     "execution_count": 72,
     "metadata": {},
     "output_type": "execute_result"
    },
    {
     "data": {
      "text/plain": [
       "<matplotlib.axes._subplots.AxesSubplot at 0x7f478885c450>"
      ]
     },
     "execution_count": 72,
     "metadata": {},
     "output_type": "execute_result"
    },
    {
     "data": {
      "text/plain": [
       "<matplotlib.legend.Legend at 0x7f47887f0810>"
      ]
     },
     "execution_count": 72,
     "metadata": {},
     "output_type": "execute_result"
    },
    {
     "data": {
      "text/plain": [
       "Text(0.5, 1.0, 'Casos confirmados Coronavirus-19')"
      ]
     },
     "execution_count": 72,
     "metadata": {},
     "output_type": "execute_result"
    },
    {
     "data": {
      "text/plain": [
       "Text(0.5, 0, 'Días aparicion primer caso regional')"
      ]
     },
     "execution_count": 72,
     "metadata": {},
     "output_type": "execute_result"
    },
    {
     "data": {
      "text/plain": [
       "Text(0, 0.5, 'Cantidad de casos')"
      ]
     },
     "execution_count": 72,
     "metadata": {},
     "output_type": "execute_result"
    },
    {
     "data": {
      "text/plain": [
       "Text(0, 3, 'Dr Egidio Céspedes \\nSAMU Viña del Mar')"
      ]
     },
     "execution_count": 72,
     "metadata": {},
     "output_type": "execute_result"
    },
    {
     "data": {
      "text/plain": [
       "<lifelines.NelsonAalenFitter:\"Araucanía\", fitted with 40 total observations, 0 right-censored observations>"
      ]
     },
     "execution_count": 72,
     "metadata": {},
     "output_type": "execute_result"
    },
    {
     "data": {
      "text/plain": [
       "<matplotlib.axes._subplots.AxesSubplot at 0x7f478885c450>"
      ]
     },
     "execution_count": 72,
     "metadata": {},
     "output_type": "execute_result"
    },
    {
     "data": {
      "text/plain": [
       "<matplotlib.legend.Legend at 0x7f47887aa9d0>"
      ]
     },
     "execution_count": 72,
     "metadata": {},
     "output_type": "execute_result"
    },
    {
     "data": {
      "text/plain": [
       "Text(0.5, 1.0, 'Casos confirmados Coronavirus-19')"
      ]
     },
     "execution_count": 72,
     "metadata": {},
     "output_type": "execute_result"
    },
    {
     "data": {
      "text/plain": [
       "Text(0.5, 0, 'Días aparicion primer caso regional')"
      ]
     },
     "execution_count": 72,
     "metadata": {},
     "output_type": "execute_result"
    },
    {
     "data": {
      "text/plain": [
       "Text(0, 0.5, 'Cantidad de casos')"
      ]
     },
     "execution_count": 72,
     "metadata": {},
     "output_type": "execute_result"
    },
    {
     "data": {
      "text/plain": [
       "Text(0, 3, 'Dr Egidio Céspedes \\nSAMU Viña del Mar')"
      ]
     },
     "execution_count": 72,
     "metadata": {},
     "output_type": "execute_result"
    },
    {
     "data": {
      "text/plain": [
       "<lifelines.NelsonAalenFitter:\"Los Lagos\", fitted with 33 total observations, 0 right-censored observations>"
      ]
     },
     "execution_count": 72,
     "metadata": {},
     "output_type": "execute_result"
    },
    {
     "data": {
      "text/plain": [
       "<matplotlib.axes._subplots.AxesSubplot at 0x7f478885c450>"
      ]
     },
     "execution_count": 72,
     "metadata": {},
     "output_type": "execute_result"
    },
    {
     "data": {
      "text/plain": [
       "<matplotlib.legend.Legend at 0x7f4788858250>"
      ]
     },
     "execution_count": 72,
     "metadata": {},
     "output_type": "execute_result"
    },
    {
     "data": {
      "text/plain": [
       "Text(0.5, 1.0, 'Casos confirmados Coronavirus-19')"
      ]
     },
     "execution_count": 72,
     "metadata": {},
     "output_type": "execute_result"
    },
    {
     "data": {
      "text/plain": [
       "Text(0.5, 0, 'Días aparicion primer caso regional')"
      ]
     },
     "execution_count": 72,
     "metadata": {},
     "output_type": "execute_result"
    },
    {
     "data": {
      "text/plain": [
       "Text(0, 0.5, 'Cantidad de casos')"
      ]
     },
     "execution_count": 72,
     "metadata": {},
     "output_type": "execute_result"
    },
    {
     "data": {
      "text/plain": [
       "Text(0, 3, 'Dr Egidio Céspedes \\nSAMU Viña del Mar')"
      ]
     },
     "execution_count": 72,
     "metadata": {},
     "output_type": "execute_result"
    },
    {
     "data": {
      "text/plain": [
       "<lifelines.NelsonAalenFitter:\"Valparaíso\", fitted with 19 total observations, 0 right-censored observations>"
      ]
     },
     "execution_count": 72,
     "metadata": {},
     "output_type": "execute_result"
    },
    {
     "data": {
      "text/plain": [
       "<matplotlib.axes._subplots.AxesSubplot at 0x7f478885c450>"
      ]
     },
     "execution_count": 72,
     "metadata": {},
     "output_type": "execute_result"
    },
    {
     "data": {
      "text/plain": [
       "<matplotlib.legend.Legend at 0x7f478881f0d0>"
      ]
     },
     "execution_count": 72,
     "metadata": {},
     "output_type": "execute_result"
    },
    {
     "data": {
      "text/plain": [
       "Text(0.5, 1.0, 'Casos confirmados Coronavirus-19')"
      ]
     },
     "execution_count": 72,
     "metadata": {},
     "output_type": "execute_result"
    },
    {
     "data": {
      "text/plain": [
       "Text(0.5, 0, 'Días aparicion primer caso regional')"
      ]
     },
     "execution_count": 72,
     "metadata": {},
     "output_type": "execute_result"
    },
    {
     "data": {
      "text/plain": [
       "Text(0, 0.5, 'Cantidad de casos')"
      ]
     },
     "execution_count": 72,
     "metadata": {},
     "output_type": "execute_result"
    },
    {
     "data": {
      "text/plain": [
       "Text(0, 3, 'Dr Egidio Céspedes \\nSAMU Viña del Mar')"
      ]
     },
     "execution_count": 72,
     "metadata": {},
     "output_type": "execute_result"
    },
    {
     "data": {
      "image/png": "[encoded data removed]",
      "text/plain": [
       "<Figure size 432x504 with 1 Axes>"
      ]
     },
     "metadata": {
      "needs_background": "light"
     },
     "output_type": "display_data"
    }
   ],
   "source": [
    "minsal.Region.value_counts()\n",
    "regiones = ['Maule', 'Metropolitana', 'Ñuble', 'Biobío', 'Araucanía',\n",
    "            'Los Lagos', 'Valparaíso']\n",
    "casos = minsal.loc[minsal.Region == reg]['Conteo Region']\n",
    "\n",
    "for reg in regiones:\n",
    "    casos = minsal.loc[minsal.Region == reg]['Conteo Region'].dt.days\n",
    "    naf = NelsonAalenFitter()\n",
    "    naf.fit(casos, label = reg)#, event_observed=E)\n",
    "    naf.plot(figsize=(6,7))\n",
    "    # Formato\n",
    "    plt.legend(loc='upper left')\n",
    "    plt.title('Casos confirmados Coronavirus-19')\n",
    "    plt.xlabel('Días aparicion primer caso regional')\n",
    "    plt.ylabel('Cantidad de casos')\n",
    "    plt.text(0,3, 'Dr Egidio Céspedes \\nSAMU Viña del Mar',\n",
    "         fontsize=10,color='gray', alpha=0.5)"
   ]
  },
  {
   "cell_type": "markdown",
   "metadata": {},
   "source": [
    "trato de predecir como se comportará"
   ]
  },
  {
   "cell_type": "code",
   "execution_count": null,
   "metadata": {},
   "outputs": [],
   "source": []
  },
  {
   "cell_type": "code",
   "execution_count": null,
   "metadata": {},
   "outputs": [],
   "source": []
  }
 ],
 "metadata": {
  "kernelspec": {
   "display_name": "Python 3",
   "language": "python",
   "name": "python3"
  },
  "language_info": {
   "codemirror_mode": {
    "name": "ipython",
    "version": 3
   },
   "file_extension": ".py",
   "mimetype": "text/x-python",
   "name": "python",
   "nbconvert_exporter": "python",
   "pygments_lexer": "ipython3",
   "version": "3.7.6"
  }
 },
 "nbformat": 4,
 "nbformat_minor": 2
}
